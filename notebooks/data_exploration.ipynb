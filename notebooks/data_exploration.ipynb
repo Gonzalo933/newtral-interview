{
 "cells": [
  {
   "cell_type": "code",
   "execution_count": 76,
   "metadata": {},
   "outputs": [],
   "source": [
    "import dvc.api\n",
    "import bson\n",
    "import pandas as pd\n",
    "import hvplot.pandas\n",
    "import holoviews as hv\n",
    "from collections import Counter"
   ]
  },
  {
   "cell_type": "code",
   "execution_count": 9,
   "metadata": {},
   "outputs": [],
   "source": [
    "TEXT_COLUMNS = [\"text_es\", \"text_en\", \"text_fr\"]"
   ]
  },
  {
   "cell_type": "code",
   "execution_count": 2,
   "metadata": {},
   "outputs": [],
   "source": [
    "with dvc.api.open(\n",
    "    \"data/raw/claims.bson\",\n",
    "    repo=\"https://github.com/Gonzalo933/newtral-interview\",\n",
    "    rev=\"data/v1\",\n",
    "    mode=\"rb\",\n",
    ") as fd:\n",
    "    data = bson.decode_all(fd.read())\n",
    "    df = pd.DataFrame(data)"
   ]
  },
  {
   "cell_type": "code",
   "execution_count": 3,
   "metadata": {},
   "outputs": [
    {
     "data": {
      "text/html": [
       "<div>\n",
       "<style scoped>\n",
       "    .dataframe tbody tr th:only-of-type {\n",
       "        vertical-align: middle;\n",
       "    }\n",
       "\n",
       "    .dataframe tbody tr th {\n",
       "        vertical-align: top;\n",
       "    }\n",
       "\n",
       "    .dataframe thead th {\n",
       "        text-align: right;\n",
       "    }\n",
       "</style>\n",
       "<table border=\"1\" class=\"dataframe\">\n",
       "  <thead>\n",
       "    <tr style=\"text-align: right;\">\n",
       "      <th></th>\n",
       "      <th>_id</th>\n",
       "      <th>text_es</th>\n",
       "      <th>text_en</th>\n",
       "      <th>text_fr</th>\n",
       "      <th>claim</th>\n",
       "    </tr>\n",
       "  </thead>\n",
       "  <tbody>\n",
       "    <tr>\n",
       "      <th>0</th>\n",
       "      <td>5f80940cf95f926ca81a3751</td>\n",
       "      <td>Gracias.</td>\n",
       "      <td>Thank you.</td>\n",
       "      <td>Merci.</td>\n",
       "      <td>0</td>\n",
       "    </tr>\n",
       "    <tr>\n",
       "      <th>1</th>\n",
       "      <td>5f80940cf95f926ca81a3752</td>\n",
       "      <td>Por ejemplo, cuando estamos hablando de un pa...</td>\n",
       "      <td>For example, when we are talking about a coun...</td>\n",
       "      <td>Par exemple, quand on parle d’un pays qui doi...</td>\n",
       "      <td>0</td>\n",
       "    </tr>\n",
       "    <tr>\n",
       "      <th>2</th>\n",
       "      <td>5f80940cf95f926ca81a3753</td>\n",
       "      <td>Entonces como solo creo que es como la políti...</td>\n",
       "      <td>So as I just think it's like the politics of ...</td>\n",
       "      <td>Donc, comme je pense que c’est comme la polit...</td>\n",
       "      <td>0</td>\n",
       "    </tr>\n",
       "    <tr>\n",
       "      <th>3</th>\n",
       "      <td>5f80940cf95f926ca81a3754</td>\n",
       "      <td>Y pienso que el Partido Popular no ha estado ...</td>\n",
       "      <td>And I think the People's Party has not risen ...</td>\n",
       "      <td>Et je pense que le Parti populaire n’a pas ét...</td>\n",
       "      <td>0</td>\n",
       "    </tr>\n",
       "    <tr>\n",
       "      <th>4</th>\n",
       "      <td>5f80940cf95f926ca81a3755</td>\n",
       "      <td>Lo siguiente Nos vamos ya volando y les dejo ...</td>\n",
       "      <td>The next thing We fly and I leave you with th...</td>\n",
       "      <td>La prochaine chose que nous volons et je vous...</td>\n",
       "      <td>0</td>\n",
       "    </tr>\n",
       "  </tbody>\n",
       "</table>\n",
       "</div>"
      ],
      "text/plain": [
       "                        _id  \\\n",
       "0  5f80940cf95f926ca81a3751   \n",
       "1  5f80940cf95f926ca81a3752   \n",
       "2  5f80940cf95f926ca81a3753   \n",
       "3  5f80940cf95f926ca81a3754   \n",
       "4  5f80940cf95f926ca81a3755   \n",
       "\n",
       "                                             text_es  \\\n",
       "0                                           Gracias.   \n",
       "1   Por ejemplo, cuando estamos hablando de un pa...   \n",
       "2   Entonces como solo creo que es como la políti...   \n",
       "3   Y pienso que el Partido Popular no ha estado ...   \n",
       "4   Lo siguiente Nos vamos ya volando y les dejo ...   \n",
       "\n",
       "                                             text_en  \\\n",
       "0                                         Thank you.   \n",
       "1   For example, when we are talking about a coun...   \n",
       "2   So as I just think it's like the politics of ...   \n",
       "3   And I think the People's Party has not risen ...   \n",
       "4   The next thing We fly and I leave you with th...   \n",
       "\n",
       "                                             text_fr  claim  \n",
       "0                                             Merci.      0  \n",
       "1   Par exemple, quand on parle d’un pays qui doi...      0  \n",
       "2   Donc, comme je pense que c’est comme la polit...      0  \n",
       "3   Et je pense que le Parti populaire n’a pas ét...      0  \n",
       "4   La prochaine chose que nous volons et je vous...      0  "
      ]
     },
     "execution_count": 3,
     "metadata": {},
     "output_type": "execute_result"
    }
   ],
   "source": [
    "df.head()"
   ]
  },
  {
   "cell_type": "code",
   "execution_count": 4,
   "metadata": {},
   "outputs": [
    {
     "data": {
      "text/plain": [
       "0    13288\n",
       "1     1065\n",
       "Name: claim, dtype: int64"
      ]
     },
     "execution_count": 4,
     "metadata": {},
     "output_type": "execute_result"
    }
   ],
   "source": [
    "# number of samples per class\n",
    "df.claim.value_counts()"
   ]
  },
  {
   "cell_type": "markdown",
   "metadata": {},
   "source": [
    "Se trata de un problema desbalanceado, por lo que habrá que tenerlo en cuenta a la hora de seleccionar métricas."
   ]
  },
  {
   "cell_type": "markdown",
   "metadata": {},
   "source": [
    "# Tamaño de los textos\n"
   ]
  },
  {
   "cell_type": "code",
   "execution_count": 28,
   "metadata": {},
   "outputs": [
    {
     "data": {
      "text/plain": [
       "text_es    106.161778\n",
       "text_en    100.598969\n",
       "text_fr    110.569567\n",
       "dtype: float64"
      ]
     },
     "execution_count": 28,
     "metadata": {},
     "output_type": "execute_result"
    }
   ],
   "source": [
    "# Average text length by lang.\n",
    "df[TEXT_COLUMNS].apply(lambda cell: cell.str.len()).mean(0)"
   ]
  },
  {
   "cell_type": "code",
   "execution_count": 34,
   "metadata": {},
   "outputs": [
    {
     "data": {
      "text/plain": [
       "text_es    18.164217\n",
       "text_en    17.868390\n",
       "text_fr    18.422978\n",
       "dtype: float64"
      ]
     },
     "execution_count": 34,
     "metadata": {},
     "output_type": "execute_result"
    }
   ],
   "source": [
    "# Average word count\n",
    "df[TEXT_COLUMNS].apply(\n",
    "    lambda cell: cell.str.split().map(lambda word_list: len(word_list))\n",
    ").mean(0)"
   ]
  },
  {
   "cell_type": "code",
   "execution_count": 56,
   "metadata": {},
   "outputs": [
    {
     "data": {},
     "metadata": {},
     "output_type": "display_data"
    },
    {
     "data": {
      "application/vnd.holoviews_exec.v0+json": "",
      "text/html": [
       "<div id='8506'>\n",
       "\n",
       "\n",
       "\n",
       "\n",
       "\n",
       "  <div class=\"bk-root\" id=\"51129cf6-5ac4-4c00-b886-5d66427ece8f\" data-root-id=\"8506\"></div>\n",
       "</div>\n",
       "<script type=\"application/javascript\">(function(root) {\n",
       "  function embed_document(root) {\n",
       "    var docs_json = {\"aa8d09a2-f0b1-4566-8aeb-c2bd6377f208\":{\"defs\":[{\"extends\":null,\"module\":null,\"name\":\"DataModel\",\"overrides\":[],\"properties\":[]}],\"roots\":{\"references\":[{\"attributes\":{\"active_multi\":null,\"tools\":[{\"id\":\"8606\"},{\"id\":\"8624\"},{\"id\":\"8625\"},{\"id\":\"8626\"},{\"id\":\"8627\"},{\"id\":\"8628\"}]},\"id\":\"8630\",\"type\":\"Toolbar\"},{\"attributes\":{\"axis\":{\"id\":\"8520\"},\"grid_line_color\":null,\"ticker\":null},\"id\":\"8523\",\"type\":\"Grid\"},{\"attributes\":{\"bottom\":{\"value\":0},\"fill_alpha\":{\"value\":1.0},\"fill_color\":{\"value\":\"#1f77b3\"},\"hatch_alpha\":{\"value\":1.0},\"hatch_color\":{\"value\":\"black\"},\"hatch_scale\":{\"value\":12.0},\"hatch_weight\":{\"value\":1.0},\"left\":{\"field\":\"left\"},\"line_alpha\":{\"value\":1.0},\"line_cap\":{\"value\":\"butt\"},\"line_color\":{\"value\":\"black\"},\"line_dash\":{\"value\":[]},\"line_dash_offset\":{\"value\":0},\"line_join\":{\"value\":\"bevel\"},\"line_width\":{\"value\":1},\"right\":{\"field\":\"right\"},\"top\":{\"field\":\"top\"}},\"id\":\"8597\",\"type\":\"Quad\"},{\"attributes\":{\"bottom_units\":\"screen\",\"fill_alpha\":0.5,\"fill_color\":\"lightgrey\",\"left_units\":\"screen\",\"level\":\"overlay\",\"line_alpha\":1.0,\"line_color\":\"black\",\"line_dash\":[4,4],\"line_width\":2,\"right_units\":\"screen\",\"syncable\":false,\"top_units\":\"screen\"},\"id\":\"8533\",\"type\":\"BoxAnnotation\"},{\"attributes\":{\"callback\":null,\"renderers\":[{\"id\":\"8547\"}],\"tags\":[\"hv_created\"],\"tooltips\":[[\"text_es\",\"@{text_es}\"],[\"Count\",\"@{text_es_count}\"]]},\"id\":\"8510\",\"type\":\"HoverTool\"},{\"attributes\":{},\"id\":\"8550\",\"type\":\"BasicTickFormatter\"},{\"attributes\":{},\"id\":\"8600\",\"type\":\"AllLabels\"},{\"attributes\":{},\"id\":\"8525\",\"type\":\"BasicTicker\"},{\"attributes\":{\"end\":753.8571428571429,\"reset_end\":753.8571428571429,\"reset_start\":-27.857142857142858,\"start\":-27.857142857142858,\"tags\":[[[\"text_es\",\"text_es\",null]]]},\"id\":\"8508\",\"type\":\"Range1d\"},{\"attributes\":{},\"id\":\"8601\",\"type\":\"BasicTickFormatter\"},{\"attributes\":{},\"id\":\"8638\",\"type\":\"Selection\"},{\"attributes\":{\"children\":[{\"id\":\"8507\"},{\"id\":\"8688\"},{\"id\":\"8959\"}],\"margin\":[0,0,0,0],\"name\":\"Row08989\",\"tags\":[\"embedded\"]},\"id\":\"8506\",\"type\":\"Row\"},{\"attributes\":{\"text\":\"text length dist. for text_es\",\"text_color\":\"black\",\"text_font_size\":\"12pt\"},\"id\":\"8512\",\"type\":\"Title\"},{\"attributes\":{},\"id\":\"8529\",\"type\":\"PanTool\"},{\"attributes\":{},\"id\":\"8516\",\"type\":\"LinearScale\"},{\"attributes\":{\"axis\":{\"id\":\"8524\"},\"dimension\":1,\"grid_line_color\":null,\"ticker\":null},\"id\":\"8527\",\"type\":\"Grid\"},{\"attributes\":{\"bottom\":{\"value\":0},\"fill_color\":{\"value\":\"#1f77b3\"},\"left\":{\"field\":\"left\"},\"right\":{\"field\":\"right\"},\"top\":{\"field\":\"top\"}},\"id\":\"8544\",\"type\":\"Quad\"},{\"attributes\":{},\"id\":\"8603\",\"type\":\"AllLabels\"},{\"attributes\":{\"below\":[{\"id\":\"8520\"}],\"center\":[{\"id\":\"8523\"},{\"id\":\"8527\"}],\"height\":300,\"left\":[{\"id\":\"8524\"}],\"margin\":null,\"min_border_bottom\":10,\"min_border_left\":10,\"min_border_right\":10,\"min_border_top\":10,\"renderers\":[{\"id\":\"8547\"}],\"sizing_mode\":\"fixed\",\"title\":{\"id\":\"8512\"},\"toolbar\":{\"id\":\"8534\"},\"toolbar_location\":null,\"width\":700,\"x_range\":{\"id\":\"8508\"},\"x_scale\":{\"id\":\"8516\"},\"y_range\":{\"id\":\"8509\"},\"y_scale\":{\"id\":\"8518\"}},\"id\":\"8511\",\"subtype\":\"Figure\",\"type\":\"Plot\"},{\"attributes\":{},\"id\":\"8660\",\"type\":\"UnionRenderers\"},{\"attributes\":{\"end\":6949.8,\"reset_end\":6949.8,\"reset_start\":0.0,\"tags\":[[[\"text_fr_count\",\"Count\",null]]]},\"id\":\"8605\",\"type\":\"Range1d\"},{\"attributes\":{\"bottom\":{\"value\":0},\"fill_alpha\":{\"value\":0.2},\"fill_color\":{\"value\":\"#1f77b3\"},\"left\":{\"field\":\"left\"},\"line_alpha\":{\"value\":0.2},\"right\":{\"field\":\"right\"},\"top\":{\"field\":\"top\"}},\"id\":\"8546\",\"type\":\"Quad\"},{\"attributes\":{\"bottom\":{\"value\":0},\"fill_alpha\":{\"value\":0.1},\"fill_color\":{\"value\":\"#1f77b3\"},\"left\":{\"field\":\"left\"},\"line_alpha\":{\"value\":0.1},\"right\":{\"field\":\"right\"},\"top\":{\"field\":\"top\"}},\"id\":\"8641\",\"type\":\"Quad\"},{\"attributes\":{\"callback\":null,\"renderers\":[{\"id\":\"8595\"}],\"tags\":[\"hv_created\"],\"tooltips\":[[\"text_en\",\"@{text_en}\"],[\"Count\",\"@{text_en_count}\"]]},\"id\":\"8558\",\"type\":\"HoverTool\"},{\"attributes\":{},\"id\":\"8553\",\"type\":\"BasicTickFormatter\"},{\"attributes\":{},\"id\":\"8646\",\"type\":\"BasicTickFormatter\"},{\"attributes\":{\"bottom\":{\"value\":0},\"fill_alpha\":{\"value\":1.0},\"fill_color\":{\"value\":\"#1f77b3\"},\"hatch_alpha\":{\"value\":1.0},\"hatch_color\":{\"value\":\"black\"},\"hatch_scale\":{\"value\":12.0},\"hatch_weight\":{\"value\":1.0},\"left\":{\"field\":\"left\"},\"line_alpha\":{\"value\":1.0},\"line_cap\":{\"value\":\"butt\"},\"line_color\":{\"value\":\"black\"},\"line_dash\":{\"value\":[]},\"line_dash_offset\":{\"value\":0},\"line_join\":{\"value\":\"bevel\"},\"line_width\":{\"value\":1},\"right\":{\"field\":\"right\"},\"top\":{\"field\":\"top\"}},\"id\":\"8645\",\"type\":\"Quad\"},{\"attributes\":{},\"id\":\"8648\",\"type\":\"AllLabels\"},{\"attributes\":{},\"id\":\"8518\",\"type\":\"LinearScale\"},{\"attributes\":{},\"id\":\"8542\",\"type\":\"Selection\"},{\"attributes\":{\"bottom\":{\"value\":0},\"fill_alpha\":{\"value\":0.1},\"fill_color\":{\"value\":\"#1f77b3\"},\"left\":{\"field\":\"left\"},\"line_alpha\":{\"value\":0.1},\"right\":{\"field\":\"right\"},\"top\":{\"field\":\"top\"}},\"id\":\"8545\",\"type\":\"Quad\"},{\"attributes\":{},\"id\":\"8649\",\"type\":\"BasicTickFormatter\"},{\"attributes\":{\"bottom\":{\"value\":0},\"fill_color\":{\"value\":\"#1f77b3\"},\"left\":{\"field\":\"left\"},\"right\":{\"field\":\"right\"},\"top\":{\"field\":\"top\"}},\"id\":\"8640\",\"type\":\"Quad\"},{\"attributes\":{\"source\":{\"id\":\"8541\"}},\"id\":\"8548\",\"type\":\"CDSView\"},{\"attributes\":{},\"id\":\"8552\",\"type\":\"AllLabels\"},{\"attributes\":{\"active_multi\":null,\"tools\":[{\"id\":\"8558\"},{\"id\":\"8576\"},{\"id\":\"8577\"},{\"id\":\"8578\"},{\"id\":\"8579\"},{\"id\":\"8580\"}]},\"id\":\"8582\",\"type\":\"Toolbar\"},{\"attributes\":{\"end\":758.0285714285715,\"reset_end\":758.0285714285715,\"reset_start\":-28.02857142857143,\"start\":-28.02857142857143,\"tags\":[[[\"text_en\",\"text_en\",null]]]},\"id\":\"8556\",\"type\":\"Range1d\"},{\"attributes\":{\"axis\":{\"id\":\"8572\"},\"dimension\":1,\"grid_line_color\":null,\"ticker\":null},\"id\":\"8575\",\"type\":\"Grid\"},{\"attributes\":{},\"id\":\"8576\",\"type\":\"SaveTool\"},{\"attributes\":{},\"id\":\"8651\",\"type\":\"AllLabels\"},{\"attributes\":{\"bottom\":{\"value\":0},\"fill_alpha\":{\"value\":1.0},\"fill_color\":{\"value\":\"#1f77b3\"},\"hatch_alpha\":{\"value\":1.0},\"hatch_color\":{\"value\":\"black\"},\"hatch_scale\":{\"value\":12.0},\"hatch_weight\":{\"value\":1.0},\"left\":{\"field\":\"left\"},\"line_alpha\":{\"value\":1.0},\"line_cap\":{\"value\":\"butt\"},\"line_color\":{\"value\":\"black\"},\"line_dash\":{\"value\":[]},\"line_dash_offset\":{\"value\":0},\"line_join\":{\"value\":\"bevel\"},\"line_width\":{\"value\":1},\"right\":{\"field\":\"right\"},\"top\":{\"field\":\"top\"}},\"id\":\"8549\",\"type\":\"Quad\"},{\"attributes\":{},\"id\":\"8521\",\"type\":\"BasicTicker\"},{\"attributes\":{},\"id\":\"8573\",\"type\":\"BasicTicker\"},{\"attributes\":{\"end\":1546.4285714285713,\"reset_end\":1546.4285714285713,\"reset_start\":-60.42857142857143,\"start\":-60.42857142857143,\"tags\":[[[\"text_fr\",\"text_fr\",null]]]},\"id\":\"8604\",\"type\":\"Range1d\"},{\"attributes\":{},\"id\":\"8671\",\"type\":\"UnionRenderers\"},{\"attributes\":{},\"id\":\"8578\",\"type\":\"WheelZoomTool\"},{\"attributes\":{\"callback\":null,\"renderers\":[{\"id\":\"8643\"}],\"tags\":[\"hv_created\"],\"tooltips\":[[\"text_fr\",\"@{text_fr}\"],[\"Count\",\"@{text_fr_count}\"]]},\"id\":\"8606\",\"type\":\"HoverTool\"},{\"attributes\":{},\"id\":\"8682\",\"type\":\"UnionRenderers\"},{\"attributes\":{},\"id\":\"8566\",\"type\":\"LinearScale\"},{\"attributes\":{\"bottom\":{\"value\":0},\"fill_alpha\":{\"value\":0.2},\"fill_color\":{\"value\":\"#1f77b3\"},\"left\":{\"field\":\"left\"},\"line_alpha\":{\"value\":0.2},\"right\":{\"field\":\"right\"},\"top\":{\"field\":\"top\"}},\"id\":\"8594\",\"type\":\"Quad\"},{\"attributes\":{\"axis_label\":\"text_es\",\"formatter\":{\"id\":\"8550\"},\"major_label_policy\":{\"id\":\"8552\"},\"ticker\":{\"id\":\"8521\"}},\"id\":\"8520\",\"type\":\"LinearAxis\"},{\"attributes\":{\"toolbars\":[{\"id\":\"8534\"},{\"id\":\"8582\"},{\"id\":\"8630\"}],\"tools\":[{\"id\":\"8510\"},{\"id\":\"8528\"},{\"id\":\"8529\"},{\"id\":\"8530\"},{\"id\":\"8531\"},{\"id\":\"8532\"},{\"id\":\"8558\"},{\"id\":\"8576\"},{\"id\":\"8577\"},{\"id\":\"8578\"},{\"id\":\"8579\"},{\"id\":\"8580\"},{\"id\":\"8606\"},{\"id\":\"8624\"},{\"id\":\"8625\"},{\"id\":\"8626\"},{\"id\":\"8627\"},{\"id\":\"8628\"}]},\"id\":\"8686\",\"type\":\"ProxyToolbar\"},{\"attributes\":{\"data\":{\"left\":{\"__ndarray__\":\"AAAAAAAACEAAAAAAAEBTQAAAAAAA4GJAAAAAAAAgbEAAAAAAALByQAAAAAAAUHdAAAAAAADwe0AAAAAAAEiAQAAAAAAAmIJAAAAAAADohEAAAAAAADiHQAAAAAAAiIlAAAAAAADYi0AAAAAAACiOQAAAAAAAPJBAAAAAAABkkUAAAAAAAIySQAAAAAAAtJNAAAAAAADclEAAAAAAAASWQA==\",\"dtype\":\"float64\",\"order\":\"little\",\"shape\":[20]},\"right\":{\"__ndarray__\":\"AAAAAABAU0AAAAAAAOBiQAAAAAAAIGxAAAAAAACwckAAAAAAAFB3QAAAAAAA8HtAAAAAAABIgEAAAAAAAJiCQAAAAAAA6IRAAAAAAAA4h0AAAAAAAIiJQAAAAAAA2ItAAAAAAAAojkAAAAAAADyQQAAAAAAAZJFAAAAAAACMkkAAAAAAALSTQAAAAAAA3JRAAAAAAAAElkAAAAAAACyXQA==\",\"dtype\":\"float64\",\"order\":\"little\",\"shape\":[20]},\"text_fr\":{\"__ndarray__\":\"AAAAAAAAREAAAAAAAIBcQAAAAAAAgGdAAAAAAABgcEAAAAAAAAB1QAAAAAAAoHlAAAAAAABAfkAAAAAAAHCBQAAAAAAAwINAAAAAAAAQhkAAAAAAAGCIQAAAAAAAsIpAAAAAAAAAjUAAAAAAAFCPQAAAAAAA0JBAAAAAAAD4kUAAAAAAACCTQAAAAAAASJRAAAAAAABwlUAAAAAAAJiWQA==\",\"dtype\":\"float64\",\"order\":\"little\",\"shape\":[20]},\"text_fr_count\":[6318,4408,2136,896,343,169,52,21,5,3,1,0,0,0,0,0,0,0,0,1],\"top\":[6318,4408,2136,896,343,169,52,21,5,3,1,0,0,0,0,0,0,0,0,1]},\"selected\":{\"id\":\"8638\"},\"selection_policy\":{\"id\":\"8682\"}},\"id\":\"8637\",\"type\":\"ColumnDataSource\"},{\"attributes\":{\"margin\":[5,5,5,5],\"name\":\"HSpacer08993\",\"sizing_mode\":\"stretch_width\"},\"id\":\"8507\",\"type\":\"Spacer\"},{\"attributes\":{\"axis_label\":\"\",\"formatter\":{\"id\":\"8601\"},\"major_label_policy\":{\"id\":\"8603\"},\"ticker\":{\"id\":\"8573\"}},\"id\":\"8572\",\"type\":\"LinearAxis\"},{\"attributes\":{\"axis_label\":\"\",\"formatter\":{\"id\":\"8553\"},\"major_label_policy\":{\"id\":\"8555\"},\"ticker\":{\"id\":\"8525\"}},\"id\":\"8524\",\"type\":\"LinearAxis\"},{\"attributes\":{\"toolbar\":{\"id\":\"8686\"},\"toolbar_location\":\"above\"},\"id\":\"8687\",\"type\":\"ToolbarBox\"},{\"attributes\":{\"axis\":{\"id\":\"8568\"},\"grid_line_color\":null,\"ticker\":null},\"id\":\"8571\",\"type\":\"Grid\"},{\"attributes\":{\"below\":[{\"id\":\"8616\"}],\"center\":[{\"id\":\"8619\"},{\"id\":\"8623\"}],\"height\":300,\"left\":[{\"id\":\"8620\"}],\"margin\":null,\"min_border_bottom\":10,\"min_border_left\":10,\"min_border_right\":10,\"min_border_top\":10,\"renderers\":[{\"id\":\"8643\"}],\"sizing_mode\":\"fixed\",\"title\":{\"id\":\"8608\"},\"toolbar\":{\"id\":\"8630\"},\"toolbar_location\":null,\"width\":700,\"x_range\":{\"id\":\"8604\"},\"x_scale\":{\"id\":\"8612\"},\"y_range\":{\"id\":\"8605\"},\"y_scale\":{\"id\":\"8614\"}},\"id\":\"8607\",\"subtype\":\"Figure\",\"type\":\"Plot\"},{\"attributes\":{},\"id\":\"8532\",\"type\":\"ResetTool\"},{\"attributes\":{\"text\":\"text length dist. for text_fr\",\"text_color\":\"black\",\"text_font_size\":\"12pt\"},\"id\":\"8608\",\"type\":\"Title\"},{\"attributes\":{\"bottom_units\":\"screen\",\"fill_alpha\":0.5,\"fill_color\":\"lightgrey\",\"left_units\":\"screen\",\"level\":\"overlay\",\"line_alpha\":1.0,\"line_color\":\"black\",\"line_dash\":[4,4],\"line_width\":2,\"right_units\":\"screen\",\"syncable\":false,\"top_units\":\"screen\"},\"id\":\"8581\",\"type\":\"BoxAnnotation\"},{\"attributes\":{\"children\":[{\"id\":\"8687\"},{\"id\":\"8685\"}]},\"id\":\"8688\",\"type\":\"Column\"},{\"attributes\":{\"children\":[[{\"id\":\"8511\"},0,0],[{\"id\":\"8559\"},1,0],[{\"id\":\"8607\"},2,0]]},\"id\":\"8685\",\"type\":\"GridBox\"},{\"attributes\":{},\"id\":\"8598\",\"type\":\"BasicTickFormatter\"},{\"attributes\":{},\"id\":\"8612\",\"type\":\"LinearScale\"},{\"attributes\":{},\"id\":\"8614\",\"type\":\"LinearScale\"},{\"attributes\":{\"margin\":[5,5,5,5],\"name\":\"HSpacer08994\",\"sizing_mode\":\"stretch_width\"},\"id\":\"8959\",\"type\":\"Spacer\"},{\"attributes\":{},\"id\":\"8530\",\"type\":\"WheelZoomTool\"},{\"attributes\":{\"axis_label\":\"text_fr\",\"formatter\":{\"id\":\"8646\"},\"major_label_policy\":{\"id\":\"8648\"},\"ticker\":{\"id\":\"8617\"}},\"id\":\"8616\",\"type\":\"LinearAxis\"},{\"attributes\":{\"data_source\":{\"id\":\"8637\"},\"glyph\":{\"id\":\"8640\"},\"hover_glyph\":null,\"muted_glyph\":{\"id\":\"8642\"},\"nonselection_glyph\":{\"id\":\"8641\"},\"selection_glyph\":{\"id\":\"8645\"},\"view\":{\"id\":\"8644\"}},\"id\":\"8643\",\"type\":\"GlyphRenderer\"},{\"attributes\":{\"overlay\":{\"id\":\"8533\"}},\"id\":\"8531\",\"type\":\"BoxZoomTool\"},{\"attributes\":{},\"id\":\"8617\",\"type\":\"BasicTicker\"},{\"attributes\":{},\"id\":\"8528\",\"type\":\"SaveTool\"},{\"attributes\":{},\"id\":\"8564\",\"type\":\"LinearScale\"},{\"attributes\":{\"source\":{\"id\":\"8589\"}},\"id\":\"8596\",\"type\":\"CDSView\"},{\"attributes\":{\"axis\":{\"id\":\"8616\"},\"grid_line_color\":null,\"ticker\":null},\"id\":\"8619\",\"type\":\"Grid\"},{\"attributes\":{\"axis_label\":\"\",\"formatter\":{\"id\":\"8649\"},\"major_label_policy\":{\"id\":\"8651\"},\"ticker\":{\"id\":\"8621\"}},\"id\":\"8620\",\"type\":\"LinearAxis\"},{\"attributes\":{\"data\":{\"left\":{\"__ndarray__\":\"AAAAAAAACECamZmZmZlDQJqZmZmZ2VJAZ2ZmZmbmW0CamZmZmXliQAAAAAAAAGdAZ2ZmZmaGa0BnZmZmZgZwQJqZmZmZSXJAzczMzMyMdEAAAAAAANB2QDQzMzMzE3lAZ2ZmZmZWe0CamZmZmZl9QM7MzMzM3H9AAAAAAAAQgUCamZmZmTGCQDQzMzMzU4NAzczMzMx0hEBnZmZmZpaFQA==\",\"dtype\":\"float64\",\"order\":\"little\",\"shape\":[20]},\"right\":{\"__ndarray__\":\"mpmZmZmZQ0CamZmZmdlSQGdmZmZm5ltAmpmZmZl5YkAAAAAAAABnQGdmZmZmhmtAZ2ZmZmYGcECamZmZmUlyQM3MzMzMjHRAAAAAAADQdkA0MzMzMxN5QGdmZmZmVntAmpmZmZmZfUDOzMzMzNx/QAAAAAAAEIFAmpmZmZkxgkA0MzMzM1ODQM3MzMzMdIRAZ2ZmZmaWhUAAAAAAALiGQA==\",\"dtype\":\"float64\",\"order\":\"little\",\"shape\":[20]},\"text_en\":{\"__ndarray__\":\"mpmZmZkZNUBnZmZmZqZMQAAAAAAAYFdAZ2ZmZmY2YEDNzMzMzLxkQDQzMzMzQ2lAmpmZmZnJbUAAAAAAAChxQDQzMzMza3NAZmZmZmaudUCamZmZmfF3QM7MzMzMNHpAAAAAAAB4fEA0MzMzM7t+QDQzMzMzf4BAzczMzMyggUBnZmZmZsKCQAAAAAAA5INAmpmZmZkFhUA0MzMzMyeGQA==\",\"dtype\":\"float64\",\"order\":\"little\",\"shape\":[20]},\"text_en_count\":[3445,3410,2558,1831,1151,731,471,305,156,105,89,52,19,13,5,5,1,5,0,1],\"top\":[3445,3410,2558,1831,1151,731,471,305,156,105,89,52,19,13,5,5,1,5,0,1]},\"selected\":{\"id\":\"8590\"},\"selection_policy\":{\"id\":\"8671\"}},\"id\":\"8589\",\"type\":\"ColumnDataSource\"},{\"attributes\":{\"overlay\":{\"id\":\"8581\"}},\"id\":\"8579\",\"type\":\"BoxZoomTool\"},{\"attributes\":{\"data_source\":{\"id\":\"8541\"},\"glyph\":{\"id\":\"8544\"},\"hover_glyph\":null,\"muted_glyph\":{\"id\":\"8546\"},\"nonselection_glyph\":{\"id\":\"8545\"},\"selection_glyph\":{\"id\":\"8549\"},\"view\":{\"id\":\"8548\"}},\"id\":\"8547\",\"type\":\"GlyphRenderer\"},{\"attributes\":{},\"id\":\"8621\",\"type\":\"BasicTicker\"},{\"attributes\":{\"data_source\":{\"id\":\"8589\"},\"glyph\":{\"id\":\"8592\"},\"hover_glyph\":null,\"muted_glyph\":{\"id\":\"8594\"},\"nonselection_glyph\":{\"id\":\"8593\"},\"selection_glyph\":{\"id\":\"8597\"},\"view\":{\"id\":\"8596\"}},\"id\":\"8595\",\"type\":\"GlyphRenderer\"},{\"attributes\":{\"axis_label\":\"text_en\",\"formatter\":{\"id\":\"8598\"},\"major_label_policy\":{\"id\":\"8600\"},\"ticker\":{\"id\":\"8569\"}},\"id\":\"8568\",\"type\":\"LinearAxis\"},{\"attributes\":{\"axis\":{\"id\":\"8620\"},\"dimension\":1,\"grid_line_color\":null,\"ticker\":null},\"id\":\"8623\",\"type\":\"Grid\"},{\"attributes\":{\"data\":{\"left\":{\"__ndarray__\":\"AAAAAAAACEAAAAAAAIBDQAAAAAAAwFJAAAAAAADAW0AAAAAAAGBiQAAAAAAA4GZAAAAAAABga0AAAAAAAOBvQAAAAAAAMHJAAAAAAABwdEAAAAAAALB2QAAAAAAA8HhAAAAAAAAwe0AAAAAAAHB9QAAAAAAAsH9AAAAAAAD4gEAAAAAAABiCQAAAAAAAOINAAAAAAABYhEAAAAAAAHiFQA==\",\"dtype\":\"float64\",\"order\":\"little\",\"shape\":[20]},\"right\":{\"__ndarray__\":\"AAAAAACAQ0AAAAAAAMBSQAAAAAAAwFtAAAAAAABgYkAAAAAAAOBmQAAAAAAAYGtAAAAAAADgb0AAAAAAADByQAAAAAAAcHRAAAAAAACwdkAAAAAAAPB4QAAAAAAAMHtAAAAAAABwfUAAAAAAALB/QAAAAAAA+IBAAAAAAAAYgkAAAAAAADiDQAAAAAAAWIRAAAAAAAB4hUAAAAAAAJiGQA==\",\"dtype\":\"float64\",\"order\":\"little\",\"shape\":[20]},\"text_es\":{\"__ndarray__\":\"AAAAAAAANUAAAAAAAIBMQAAAAAAAQFdAAAAAAAAgYEAAAAAAAKBkQAAAAAAAIGlAAAAAAACgbUAAAAAAABBxQAAAAAAAUHNAAAAAAACQdUAAAAAAANB3QAAAAAAAEHpAAAAAAABQfEAAAAAAAJB+QAAAAAAAaIBAAAAAAACIgUAAAAAAAKiCQAAAAAAAyINAAAAAAADohEAAAAAAAAiGQA==\",\"dtype\":\"float64\",\"order\":\"little\",\"shape\":[20]},\"text_es_count\":[3106,3349,2522,1825,1274,833,524,334,225,120,86,75,37,15,12,6,3,4,2,1],\"top\":[3106,3349,2522,1825,1274,833,524,334,225,120,86,75,37,15,12,6,3,4,2,1]},\"selected\":{\"id\":\"8542\"},\"selection_policy\":{\"id\":\"8660\"}},\"id\":\"8541\",\"type\":\"ColumnDataSource\"},{\"attributes\":{\"end\":3683.8,\"reset_end\":3683.8,\"reset_start\":0.0,\"tags\":[[[\"text_es_count\",\"Count\",null]]]},\"id\":\"8509\",\"type\":\"Range1d\"},{\"attributes\":{\"text\":\"text length dist. for text_en\",\"text_color\":\"black\",\"text_font_size\":\"12pt\"},\"id\":\"8560\",\"type\":\"Title\"},{\"attributes\":{\"bottom\":{\"value\":0},\"fill_alpha\":{\"value\":0.1},\"fill_color\":{\"value\":\"#1f77b3\"},\"left\":{\"field\":\"left\"},\"line_alpha\":{\"value\":0.1},\"right\":{\"field\":\"right\"},\"top\":{\"field\":\"top\"}},\"id\":\"8593\",\"type\":\"Quad\"},{\"attributes\":{\"bottom\":{\"value\":0},\"fill_color\":{\"value\":\"#1f77b3\"},\"left\":{\"field\":\"left\"},\"right\":{\"field\":\"right\"},\"top\":{\"field\":\"top\"}},\"id\":\"8592\",\"type\":\"Quad\"},{\"attributes\":{\"active_multi\":null,\"tools\":[{\"id\":\"8510\"},{\"id\":\"8528\"},{\"id\":\"8529\"},{\"id\":\"8530\"},{\"id\":\"8531\"},{\"id\":\"8532\"}]},\"id\":\"8534\",\"type\":\"Toolbar\"},{\"attributes\":{},\"id\":\"8624\",\"type\":\"SaveTool\"},{\"attributes\":{\"below\":[{\"id\":\"8568\"}],\"center\":[{\"id\":\"8571\"},{\"id\":\"8575\"}],\"height\":300,\"left\":[{\"id\":\"8572\"}],\"margin\":null,\"min_border_bottom\":10,\"min_border_left\":10,\"min_border_right\":10,\"min_border_top\":10,\"renderers\":[{\"id\":\"8595\"}],\"sizing_mode\":\"fixed\",\"title\":{\"id\":\"8560\"},\"toolbar\":{\"id\":\"8582\"},\"toolbar_location\":null,\"width\":700,\"x_range\":{\"id\":\"8556\"},\"x_scale\":{\"id\":\"8564\"},\"y_range\":{\"id\":\"8557\"},\"y_scale\":{\"id\":\"8566\"}},\"id\":\"8559\",\"subtype\":\"Figure\",\"type\":\"Plot\"},{\"attributes\":{\"end\":3789.5,\"reset_end\":3789.5,\"reset_start\":0.0,\"tags\":[[[\"text_en_count\",\"Count\",null]]]},\"id\":\"8557\",\"type\":\"Range1d\"},{\"attributes\":{},\"id\":\"8625\",\"type\":\"PanTool\"},{\"attributes\":{},\"id\":\"8626\",\"type\":\"WheelZoomTool\"},{\"attributes\":{\"source\":{\"id\":\"8637\"}},\"id\":\"8644\",\"type\":\"CDSView\"},{\"attributes\":{},\"id\":\"8577\",\"type\":\"PanTool\"},{\"attributes\":{\"overlay\":{\"id\":\"8629\"}},\"id\":\"8627\",\"type\":\"BoxZoomTool\"},{\"attributes\":{},\"id\":\"8580\",\"type\":\"ResetTool\"},{\"attributes\":{},\"id\":\"8628\",\"type\":\"ResetTool\"},{\"attributes\":{},\"id\":\"8590\",\"type\":\"Selection\"},{\"attributes\":{},\"id\":\"8555\",\"type\":\"AllLabels\"},{\"attributes\":{\"bottom\":{\"value\":0},\"fill_alpha\":{\"value\":0.2},\"fill_color\":{\"value\":\"#1f77b3\"},\"left\":{\"field\":\"left\"},\"line_alpha\":{\"value\":0.2},\"right\":{\"field\":\"right\"},\"top\":{\"field\":\"top\"}},\"id\":\"8642\",\"type\":\"Quad\"},{\"attributes\":{},\"id\":\"8569\",\"type\":\"BasicTicker\"},{\"attributes\":{\"bottom_units\":\"screen\",\"fill_alpha\":0.5,\"fill_color\":\"lightgrey\",\"left_units\":\"screen\",\"level\":\"overlay\",\"line_alpha\":1.0,\"line_color\":\"black\",\"line_dash\":[4,4],\"line_width\":2,\"right_units\":\"screen\",\"syncable\":false,\"top_units\":\"screen\"},\"id\":\"8629\",\"type\":\"BoxAnnotation\"}],\"root_ids\":[\"8506\"]},\"title\":\"Bokeh Application\",\"version\":\"2.3.0\"}};\n",
       "    var render_items = [{\"docid\":\"aa8d09a2-f0b1-4566-8aeb-c2bd6377f208\",\"root_ids\":[\"8506\"],\"roots\":{\"8506\":\"51129cf6-5ac4-4c00-b886-5d66427ece8f\"}}];\n",
       "    root.Bokeh.embed.embed_items_notebook(docs_json, render_items);\n",
       "  }\n",
       "  if (root.Bokeh !== undefined && root.Bokeh.Panel !== undefined) {\n",
       "    embed_document(root);\n",
       "  } else {\n",
       "    var attempts = 0;\n",
       "    var timer = setInterval(function(root) {\n",
       "      if (root.Bokeh !== undefined && root.Bokeh.Panel !== undefined) {\n",
       "        clearInterval(timer);\n",
       "        embed_document(root);\n",
       "      } else if (document.readyState == \"complete\") {\n",
       "        attempts++;\n",
       "        if (attempts > 100) {\n",
       "          clearInterval(timer);\n",
       "          console.log(\"Bokeh: ERROR: Unable to run BokehJS code because BokehJS library is missing\");\n",
       "        }\n",
       "      }\n",
       "    }, 10, root)\n",
       "  }\n",
       "})(window);</script>"
      ],
      "text/plain": [
       ":Layout\n",
       "   .Histogram.I   :Histogram   [text_es]   (text_es_count)\n",
       "   .Histogram.II  :Histogram   [text_en]   (text_en_count)\n",
       "   .Histogram.III :Histogram   [text_fr]   (text_fr_count)"
      ]
     },
     "execution_count": 56,
     "metadata": {
      "application/vnd.holoviews_exec.v0+json": {
       "id": "8506"
      }
     },
     "output_type": "execute_result"
    }
   ],
   "source": [
    "plots = []\n",
    "for col in TEXT_COLUMNS:\n",
    "    plots.append(df[col].str.len().hvplot.hist(title=f\"text length dist. for {col}\"))\n",
    "# Text length distribution\n",
    "hv.Layout(plots).cols(1)"
   ]
  },
  {
   "cell_type": "code",
   "execution_count": 55,
   "metadata": {},
   "outputs": [
    {
     "data": {},
     "metadata": {},
     "output_type": "display_data"
    },
    {
     "data": {
      "application/vnd.holoviews_exec.v0+json": "",
      "text/html": [
       "<div id='7901'>\n",
       "\n",
       "\n",
       "\n",
       "\n",
       "\n",
       "  <div class=\"bk-root\" id=\"cf1427bd-8af2-4caa-8f54-2475526913e0\" data-root-id=\"7901\"></div>\n",
       "</div>\n",
       "<script type=\"application/javascript\">(function(root) {\n",
       "  function embed_document(root) {\n",
       "    var docs_json = {\"438fa3d9-6a6f-4064-99c1-5ab95311b9b7\":{\"defs\":[{\"extends\":null,\"module\":null,\"name\":\"DataModel\",\"overrides\":[],\"properties\":[]}],\"roots\":{\"references\":[{\"attributes\":{\"active_multi\":null,\"tools\":[{\"id\":\"7905\"},{\"id\":\"7923\"},{\"id\":\"7924\"},{\"id\":\"7925\"},{\"id\":\"7926\"},{\"id\":\"7927\"}]},\"id\":\"7929\",\"type\":\"Toolbar\"},{\"attributes\":{},\"id\":\"7973\",\"type\":\"WheelZoomTool\"},{\"attributes\":{\"source\":{\"id\":\"7936\"}},\"id\":\"7943\",\"type\":\"CDSView\"},{\"attributes\":{\"bottom\":{\"value\":0},\"fill_alpha\":{\"value\":1.0},\"fill_color\":{\"value\":\"#1f77b3\"},\"hatch_alpha\":{\"value\":1.0},\"hatch_color\":{\"value\":\"black\"},\"hatch_scale\":{\"value\":12.0},\"hatch_weight\":{\"value\":1.0},\"left\":{\"field\":\"left\"},\"line_alpha\":{\"value\":1.0},\"line_cap\":{\"value\":\"butt\"},\"line_color\":{\"value\":\"black\"},\"line_dash\":{\"value\":[]},\"line_dash_offset\":{\"value\":0},\"line_join\":{\"value\":\"bevel\"},\"line_width\":{\"value\":1},\"right\":{\"field\":\"right\"},\"top\":{\"field\":\"top\"}},\"id\":\"7992\",\"type\":\"Quad\"},{\"attributes\":{},\"id\":\"8055\",\"type\":\"UnionRenderers\"},{\"attributes\":{\"bottom\":{\"value\":0},\"fill_color\":{\"value\":\"#1f77b3\"},\"left\":{\"field\":\"left\"},\"right\":{\"field\":\"right\"},\"top\":{\"field\":\"top\"}},\"id\":\"8035\",\"type\":\"Quad\"},{\"attributes\":{\"callback\":null,\"renderers\":[{\"id\":\"7990\"}],\"tags\":[\"hv_created\"],\"tooltips\":[[\"text_en\",\"@{text_en}\"],[\"Count\",\"@{text_en_count}\"]]},\"id\":\"7953\",\"type\":\"HoverTool\"},{\"attributes\":{\"callback\":null,\"renderers\":[{\"id\":\"8038\"}],\"tags\":[\"hv_created\"],\"tooltips\":[[\"text_fr\",\"@{text_fr}\"],[\"Count\",\"@{text_fr_count}\"]]},\"id\":\"8001\",\"type\":\"HoverTool\"},{\"attributes\":{},\"id\":\"8041\",\"type\":\"BasicTickFormatter\"},{\"attributes\":{},\"id\":\"8066\",\"type\":\"UnionRenderers\"},{\"attributes\":{},\"id\":\"8044\",\"type\":\"BasicTickFormatter\"},{\"attributes\":{\"bottom_units\":\"screen\",\"fill_alpha\":0.5,\"fill_color\":\"lightgrey\",\"left_units\":\"screen\",\"level\":\"overlay\",\"line_alpha\":1.0,\"line_color\":\"black\",\"line_dash\":[4,4],\"line_width\":2,\"right_units\":\"screen\",\"syncable\":false,\"top_units\":\"screen\"},\"id\":\"8024\",\"type\":\"BoxAnnotation\"},{\"attributes\":{},\"id\":\"7998\",\"type\":\"AllLabels\"},{\"attributes\":{\"end\":241.9,\"reset_end\":241.9,\"reset_start\":-8.9,\"start\":-8.9,\"tags\":[[[\"text_fr\",\"text_fr\",null]]]},\"id\":\"7999\",\"type\":\"Range1d\"},{\"attributes\":{\"bottom\":{\"value\":0},\"fill_color\":{\"value\":\"#1f77b3\"},\"left\":{\"field\":\"left\"},\"right\":{\"field\":\"right\"},\"top\":{\"field\":\"top\"}},\"id\":\"7939\",\"type\":\"Quad\"},{\"attributes\":{},\"id\":\"7961\",\"type\":\"LinearScale\"},{\"attributes\":{\"data\":{\"left\":{\"__ndarray__\":\"AAAAAAAA8D/NzMzMzMweQM3MzMzMzCxAmpmZmZkZNUDNzMzMzMw7QAAAAAAAQEFAmpmZmZmZREAzMzMzM/NHQM3MzMzMTEtAZ2ZmZmamTkAAAAAAAABRQM3MzMzMrFJAmpmZmZlZVEBnZmZmZgZWQDMzMzMzs1dAAAAAAABgWUDNzMzMzAxbQJqZmZmZuVxAZ2ZmZmZmXkCamZmZmQlgQA==\",\"dtype\":\"float64\",\"order\":\"little\",\"shape\":[20]},\"right\":{\"__ndarray__\":\"zczMzMzMHkDNzMzMzMwsQJqZmZmZGTVAzczMzMzMO0AAAAAAAEBBQJqZmZmZmURAMzMzMzPzR0DNzMzMzExLQGdmZmZmpk5AAAAAAAAAUUDNzMzMzKxSQJqZmZmZWVRAZ2ZmZmYGVkAzMzMzM7NXQAAAAAAAYFlAzczMzMwMW0CamZmZmblcQGdmZmZmZl5AmpmZmZkJYEAAAAAAAOBgQA==\",\"dtype\":\"float64\",\"order\":\"little\",\"shape\":[20]},\"text_en\":{\"__ndarray__\":\"ZmZmZmZmEUCamZmZmRkmQAAAAAAAwDFANDMzMzNzOEBmZmZmZiY/QM3MzMzM7EJAZmZmZmZGRkAAAAAAAKBJQJqZmZmZ+UxAmpmZmZkpUEBmZmZmZtZRQDQzMzMzg1NAAAAAAAAwVUDNzMzMzNxWQJqZmZmZiVhAZmZmZmY2WkA0MzMzM+NbQAAAAAAAkF1AzszMzMw8X0DNzMzMzHRgQA==\",\"dtype\":\"float64\",\"order\":\"little\",\"shape\":[20]},\"text_en_count\":[3741,3606,2615,1546,1123,712,378,247,153,92,69,32,12,14,3,5,3,1,0,1],\"top\":[3741,3606,2615,1546,1123,712,378,247,153,92,69,32,12,14,3,5,3,1,0,1]},\"selected\":{\"id\":\"7985\"},\"selection_policy\":{\"id\":\"8066\"}},\"id\":\"7984\",\"type\":\"ColumnDataSource\"},{\"attributes\":{\"active_multi\":null,\"tools\":[{\"id\":\"7953\"},{\"id\":\"7971\"},{\"id\":\"7972\"},{\"id\":\"7973\"},{\"id\":\"7974\"},{\"id\":\"7975\"}]},\"id\":\"7977\",\"type\":\"Toolbar\"},{\"attributes\":{},\"id\":\"7945\",\"type\":\"BasicTickFormatter\"},{\"attributes\":{},\"id\":\"7995\",\"type\":\"AllLabels\"},{\"attributes\":{\"bottom\":{\"value\":0},\"fill_alpha\":{\"value\":0.2},\"fill_color\":{\"value\":\"#1f77b3\"},\"left\":{\"field\":\"left\"},\"line_alpha\":{\"value\":0.2},\"right\":{\"field\":\"right\"},\"top\":{\"field\":\"top\"}},\"id\":\"7989\",\"type\":\"Quad\"},{\"attributes\":{},\"id\":\"7985\",\"type\":\"Selection\"},{\"attributes\":{},\"id\":\"7925\",\"type\":\"WheelZoomTool\"},{\"attributes\":{\"end\":139.7,\"reset_end\":139.7,\"reset_start\":-4.7,\"start\":-4.7,\"tags\":[[[\"text_es\",\"text_es\",null]]]},\"id\":\"7903\",\"type\":\"Range1d\"},{\"attributes\":{},\"id\":\"7948\",\"type\":\"BasicTickFormatter\"},{\"attributes\":{\"below\":[{\"id\":\"8011\"}],\"center\":[{\"id\":\"8014\"},{\"id\":\"8018\"}],\"height\":300,\"left\":[{\"id\":\"8015\"}],\"margin\":null,\"min_border_bottom\":10,\"min_border_left\":10,\"min_border_right\":10,\"min_border_top\":10,\"renderers\":[{\"id\":\"8038\"}],\"sizing_mode\":\"fixed\",\"title\":{\"id\":\"8003\"},\"toolbar\":{\"id\":\"8025\"},\"toolbar_location\":null,\"width\":700,\"x_range\":{\"id\":\"7999\"},\"x_scale\":{\"id\":\"8007\"},\"y_range\":{\"id\":\"8000\"},\"y_scale\":{\"id\":\"8009\"}},\"id\":\"8002\",\"subtype\":\"Figure\",\"type\":\"Plot\"},{\"attributes\":{},\"id\":\"7916\",\"type\":\"BasicTicker\"},{\"attributes\":{\"bottom\":{\"value\":0},\"fill_alpha\":{\"value\":1.0},\"fill_color\":{\"value\":\"#1f77b3\"},\"hatch_alpha\":{\"value\":1.0},\"hatch_color\":{\"value\":\"black\"},\"hatch_scale\":{\"value\":12.0},\"hatch_weight\":{\"value\":1.0},\"left\":{\"field\":\"left\"},\"line_alpha\":{\"value\":1.0},\"line_cap\":{\"value\":\"butt\"},\"line_color\":{\"value\":\"black\"},\"line_dash\":{\"value\":[]},\"line_dash_offset\":{\"value\":0},\"line_join\":{\"value\":\"bevel\"},\"line_width\":{\"value\":1},\"right\":{\"field\":\"right\"},\"top\":{\"field\":\"top\"}},\"id\":\"7944\",\"type\":\"Quad\"},{\"attributes\":{\"below\":[{\"id\":\"7963\"}],\"center\":[{\"id\":\"7966\"},{\"id\":\"7970\"}],\"height\":300,\"left\":[{\"id\":\"7967\"}],\"margin\":null,\"min_border_bottom\":10,\"min_border_left\":10,\"min_border_right\":10,\"min_border_top\":10,\"renderers\":[{\"id\":\"7990\"}],\"sizing_mode\":\"fixed\",\"title\":{\"id\":\"7955\"},\"toolbar\":{\"id\":\"7977\"},\"toolbar_location\":null,\"width\":700,\"x_range\":{\"id\":\"7951\"},\"x_scale\":{\"id\":\"7959\"},\"y_range\":{\"id\":\"7952\"},\"y_scale\":{\"id\":\"7961\"}},\"id\":\"7954\",\"subtype\":\"Figure\",\"type\":\"Plot\"},{\"attributes\":{\"axis\":{\"id\":\"8015\"},\"dimension\":1,\"grid_line_color\":null,\"ticker\":null},\"id\":\"8018\",\"type\":\"Grid\"},{\"attributes\":{\"axis\":{\"id\":\"7963\"},\"grid_line_color\":null,\"ticker\":null},\"id\":\"7966\",\"type\":\"Grid\"},{\"attributes\":{\"bottom\":{\"value\":0},\"fill_alpha\":{\"value\":0.1},\"fill_color\":{\"value\":\"#1f77b3\"},\"left\":{\"field\":\"left\"},\"line_alpha\":{\"value\":0.1},\"right\":{\"field\":\"right\"},\"top\":{\"field\":\"top\"}},\"id\":\"7988\",\"type\":\"Quad\"},{\"attributes\":{\"end\":4115.1,\"reset_end\":4115.1,\"reset_start\":0.0,\"tags\":[[[\"text_en_count\",\"Count\",null]]]},\"id\":\"7952\",\"type\":\"Range1d\"},{\"attributes\":{\"bottom_units\":\"screen\",\"fill_alpha\":0.5,\"fill_color\":\"lightgrey\",\"left_units\":\"screen\",\"level\":\"overlay\",\"line_alpha\":1.0,\"line_color\":\"black\",\"line_dash\":[4,4],\"line_width\":2,\"right_units\":\"screen\",\"syncable\":false,\"top_units\":\"screen\"},\"id\":\"7928\",\"type\":\"BoxAnnotation\"},{\"attributes\":{},\"id\":\"8021\",\"type\":\"WheelZoomTool\"},{\"attributes\":{\"text\":\"text length dist. for text_en\",\"text_color\":\"black\",\"text_font_size\":\"12pt\"},\"id\":\"7955\",\"type\":\"Title\"},{\"attributes\":{\"toolbars\":[{\"id\":\"7929\"},{\"id\":\"7977\"},{\"id\":\"8025\"}],\"tools\":[{\"id\":\"7905\"},{\"id\":\"7923\"},{\"id\":\"7924\"},{\"id\":\"7925\"},{\"id\":\"7926\"},{\"id\":\"7927\"},{\"id\":\"7953\"},{\"id\":\"7971\"},{\"id\":\"7972\"},{\"id\":\"7973\"},{\"id\":\"7974\"},{\"id\":\"7975\"},{\"id\":\"8001\"},{\"id\":\"8019\"},{\"id\":\"8020\"},{\"id\":\"8021\"},{\"id\":\"8022\"},{\"id\":\"8023\"}]},\"id\":\"8081\",\"type\":\"ProxyToolbar\"},{\"attributes\":{\"data_source\":{\"id\":\"7936\"},\"glyph\":{\"id\":\"7939\"},\"hover_glyph\":null,\"muted_glyph\":{\"id\":\"7941\"},\"nonselection_glyph\":{\"id\":\"7940\"},\"selection_glyph\":{\"id\":\"7944\"},\"view\":{\"id\":\"7943\"}},\"id\":\"7942\",\"type\":\"GlyphRenderer\"},{\"attributes\":{},\"id\":\"7950\",\"type\":\"AllLabels\"},{\"attributes\":{\"bottom\":{\"value\":0},\"fill_alpha\":{\"value\":0.2},\"fill_color\":{\"value\":\"#1f77b3\"},\"left\":{\"field\":\"left\"},\"line_alpha\":{\"value\":0.2},\"right\":{\"field\":\"right\"},\"top\":{\"field\":\"top\"}},\"id\":\"7941\",\"type\":\"Quad\"},{\"attributes\":{},\"id\":\"7927\",\"type\":\"ResetTool\"},{\"attributes\":{\"bottom\":{\"value\":0},\"fill_alpha\":{\"value\":0.1},\"fill_color\":{\"value\":\"#1f77b3\"},\"left\":{\"field\":\"left\"},\"line_alpha\":{\"value\":0.1},\"right\":{\"field\":\"right\"},\"top\":{\"field\":\"top\"}},\"id\":\"7940\",\"type\":\"Quad\"},{\"attributes\":{},\"id\":\"7964\",\"type\":\"BasicTicker\"},{\"attributes\":{\"axis_label\":\"\",\"formatter\":{\"id\":\"7996\"},\"major_label_policy\":{\"id\":\"7998\"},\"ticker\":{\"id\":\"7968\"}},\"id\":\"7967\",\"type\":\"LinearAxis\"},{\"attributes\":{\"end\":4057.9,\"reset_end\":4057.9,\"reset_start\":0.0,\"tags\":[[[\"text_es_count\",\"Count\",null]]]},\"id\":\"7904\",\"type\":\"Range1d\"},{\"attributes\":{\"source\":{\"id\":\"7984\"}},\"id\":\"7991\",\"type\":\"CDSView\"},{\"attributes\":{\"bottom\":{\"value\":0},\"fill_color\":{\"value\":\"#1f77b3\"},\"left\":{\"field\":\"left\"},\"right\":{\"field\":\"right\"},\"top\":{\"field\":\"top\"}},\"id\":\"7987\",\"type\":\"Quad\"},{\"attributes\":{\"bottom\":{\"value\":0},\"fill_alpha\":{\"value\":0.1},\"fill_color\":{\"value\":\"#1f77b3\"},\"left\":{\"field\":\"left\"},\"line_alpha\":{\"value\":0.1},\"right\":{\"field\":\"right\"},\"top\":{\"field\":\"top\"}},\"id\":\"8036\",\"type\":\"Quad\"},{\"attributes\":{\"axis\":{\"id\":\"7967\"},\"dimension\":1,\"grid_line_color\":null,\"ticker\":null},\"id\":\"7970\",\"type\":\"Grid\"},{\"attributes\":{},\"id\":\"7947\",\"type\":\"AllLabels\"},{\"attributes\":{},\"id\":\"7937\",\"type\":\"Selection\"},{\"attributes\":{\"toolbar\":{\"id\":\"8081\"},\"toolbar_location\":\"above\"},\"id\":\"8082\",\"type\":\"ToolbarBox\"},{\"attributes\":{\"axis_label\":\"text_en\",\"formatter\":{\"id\":\"7993\"},\"major_label_policy\":{\"id\":\"7995\"},\"ticker\":{\"id\":\"7964\"}},\"id\":\"7963\",\"type\":\"LinearAxis\"},{\"attributes\":{},\"id\":\"7996\",\"type\":\"BasicTickFormatter\"},{\"attributes\":{},\"id\":\"7968\",\"type\":\"BasicTicker\"},{\"attributes\":{\"margin\":[5,5,5,5],\"name\":\"HSpacer08357\",\"sizing_mode\":\"stretch_width\"},\"id\":\"7902\",\"type\":\"Spacer\"},{\"attributes\":{\"axis\":{\"id\":\"7919\"},\"dimension\":1,\"grid_line_color\":null,\"ticker\":null},\"id\":\"7922\",\"type\":\"Grid\"},{\"attributes\":{},\"id\":\"7959\",\"type\":\"LinearScale\"},{\"attributes\":{\"bottom\":{\"value\":0},\"fill_alpha\":{\"value\":0.2},\"fill_color\":{\"value\":\"#1f77b3\"},\"left\":{\"field\":\"left\"},\"line_alpha\":{\"value\":0.2},\"right\":{\"field\":\"right\"},\"top\":{\"field\":\"top\"}},\"id\":\"8037\",\"type\":\"Quad\"},{\"attributes\":{\"active_multi\":null,\"tools\":[{\"id\":\"8001\"},{\"id\":\"8019\"},{\"id\":\"8020\"},{\"id\":\"8021\"},{\"id\":\"8022\"},{\"id\":\"8023\"}]},\"id\":\"8025\",\"type\":\"Toolbar\"},{\"attributes\":{\"axis_label\":\"\",\"formatter\":{\"id\":\"7948\"},\"major_label_policy\":{\"id\":\"7950\"},\"ticker\":{\"id\":\"7920\"}},\"id\":\"7919\",\"type\":\"LinearAxis\"},{\"attributes\":{},\"id\":\"7920\",\"type\":\"BasicTicker\"},{\"attributes\":{\"overlay\":{\"id\":\"7928\"}},\"id\":\"7926\",\"type\":\"BoxZoomTool\"},{\"attributes\":{\"children\":[{\"id\":\"7902\"},{\"id\":\"8083\"},{\"id\":\"8354\"}],\"margin\":[0,0,0,0],\"name\":\"Row08353\",\"tags\":[\"embedded\"]},\"id\":\"7901\",\"type\":\"Row\"},{\"attributes\":{},\"id\":\"8020\",\"type\":\"PanTool\"},{\"attributes\":{},\"id\":\"7924\",\"type\":\"PanTool\"},{\"attributes\":{\"children\":[{\"id\":\"8082\"},{\"id\":\"8080\"}]},\"id\":\"8083\",\"type\":\"Column\"},{\"attributes\":{},\"id\":\"8016\",\"type\":\"BasicTicker\"},{\"attributes\":{\"text\":\"text length dist. for text_fr\",\"text_color\":\"black\",\"text_font_size\":\"12pt\"},\"id\":\"8003\",\"type\":\"Title\"},{\"attributes\":{},\"id\":\"7972\",\"type\":\"PanTool\"},{\"attributes\":{},\"id\":\"8023\",\"type\":\"ResetTool\"},{\"attributes\":{\"margin\":[5,5,5,5],\"name\":\"HSpacer08358\",\"sizing_mode\":\"stretch_width\"},\"id\":\"8354\",\"type\":\"Spacer\"},{\"attributes\":{\"data_source\":{\"id\":\"7984\"},\"glyph\":{\"id\":\"7987\"},\"hover_glyph\":null,\"muted_glyph\":{\"id\":\"7989\"},\"nonselection_glyph\":{\"id\":\"7988\"},\"selection_glyph\":{\"id\":\"7992\"},\"view\":{\"id\":\"7991\"}},\"id\":\"7990\",\"type\":\"GlyphRenderer\"},{\"attributes\":{\"callback\":null,\"renderers\":[{\"id\":\"7942\"}],\"tags\":[\"hv_created\"],\"tooltips\":[[\"text_es\",\"@{text_es}\"],[\"Count\",\"@{text_es_count}\"]]},\"id\":\"7905\",\"type\":\"HoverTool\"},{\"attributes\":{\"data\":{\"left\":{\"__ndarray__\":\"AAAAAAAA8D+amZmZmRkpQJqZmZmZGThANDMzMzPTQUCamZmZmZlHQAAAAAAAYE1ANDMzMzOTUUBnZmZmZnZUQJqZmZmZWVdAzczMzMw8WkAAAAAAACBdQJqZmZmZAWBANDMzMzNzYUDNzMzMzORiQGdmZmZmVmRAAAAAAADIZUCamZmZmTlnQDQzMzMzq2hAzczMzMwcakBnZmZmZo5rQA==\",\"dtype\":\"float64\",\"order\":\"little\",\"shape\":[20]},\"right\":{\"__ndarray__\":\"mpmZmZkZKUCamZmZmRk4QDQzMzMz00FAmpmZmZmZR0AAAAAAAGBNQDQzMzMzk1FAZ2ZmZmZ2VECamZmZmVlXQM3MzMzMPFpAAAAAAAAgXUCamZmZmQFgQDQzMzMzc2FAzczMzMzkYkBnZmZmZlZkQAAAAAAAyGVAmpmZmZk5Z0A0MzMzM6toQM3MzMzMHGpAZ2ZmZmaOa0AAAAAAAABtQA==\",\"dtype\":\"float64\",\"order\":\"little\",\"shape\":[20]},\"text_fr\":{\"__ndarray__\":\"mpmZmZkZG0A0MzMzM1MyQAEAAAAA4D1AZ2ZmZma2REDNzMzMzHxKQJqZmZmZIVBAzszMzMwEU0AAAAAAAOhVQDQzMzMzy1hAZmZmZmauW0CamZmZmZFeQGdmZmZmumBAAAAAAAAsYkCamZmZmZ1jQDQzMzMzD2VAzczMzMyAZkBnZmZmZvJnQAAAAAAAZGlAmpmZmZnVakA0MzMzM0dsQA==\",\"dtype\":\"float64\",\"order\":\"little\",\"shape\":[20]},\"text_fr_count\":[6185,4408,2059,1011,378,185,80,28,11,4,2,1,0,0,0,0,0,0,0,1],\"top\":[6185,4408,2059,1011,378,185,80,28,11,4,2,1,0,0,0,0,0,0,0,1]},\"selected\":{\"id\":\"8033\"},\"selection_policy\":{\"id\":\"8077\"}},\"id\":\"8032\",\"type\":\"ColumnDataSource\"},{\"attributes\":{},\"id\":\"7913\",\"type\":\"LinearScale\"},{\"attributes\":{\"bottom\":{\"value\":0},\"fill_alpha\":{\"value\":1.0},\"fill_color\":{\"value\":\"#1f77b3\"},\"hatch_alpha\":{\"value\":1.0},\"hatch_color\":{\"value\":\"black\"},\"hatch_scale\":{\"value\":12.0},\"hatch_weight\":{\"value\":1.0},\"left\":{\"field\":\"left\"},\"line_alpha\":{\"value\":1.0},\"line_cap\":{\"value\":\"butt\"},\"line_color\":{\"value\":\"black\"},\"line_dash\":{\"value\":[]},\"line_dash_offset\":{\"value\":0},\"line_join\":{\"value\":\"bevel\"},\"line_width\":{\"value\":1},\"right\":{\"field\":\"right\"},\"top\":{\"field\":\"top\"}},\"id\":\"8040\",\"type\":\"Quad\"},{\"attributes\":{\"overlay\":{\"id\":\"7976\"}},\"id\":\"7974\",\"type\":\"BoxZoomTool\"},{\"attributes\":{\"axis_label\":\"\",\"formatter\":{\"id\":\"8044\"},\"major_label_policy\":{\"id\":\"8046\"},\"ticker\":{\"id\":\"8016\"}},\"id\":\"8015\",\"type\":\"LinearAxis\"},{\"attributes\":{\"data_source\":{\"id\":\"8032\"},\"glyph\":{\"id\":\"8035\"},\"hover_glyph\":null,\"muted_glyph\":{\"id\":\"8037\"},\"nonselection_glyph\":{\"id\":\"8036\"},\"selection_glyph\":{\"id\":\"8040\"},\"view\":{\"id\":\"8039\"}},\"id\":\"8038\",\"type\":\"GlyphRenderer\"},{\"attributes\":{\"end\":6803.5,\"reset_end\":6803.5,\"reset_start\":0.0,\"tags\":[[[\"text_fr_count\",\"Count\",null]]]},\"id\":\"8000\",\"type\":\"Range1d\"},{\"attributes\":{\"bottom_units\":\"screen\",\"fill_alpha\":0.5,\"fill_color\":\"lightgrey\",\"left_units\":\"screen\",\"level\":\"overlay\",\"line_alpha\":1.0,\"line_color\":\"black\",\"line_dash\":[4,4],\"line_width\":2,\"right_units\":\"screen\",\"syncable\":false,\"top_units\":\"screen\"},\"id\":\"7976\",\"type\":\"BoxAnnotation\"},{\"attributes\":{\"text\":\"text length dist. for text_es\",\"text_color\":\"black\",\"text_font_size\":\"12pt\"},\"id\":\"7907\",\"type\":\"Title\"},{\"attributes\":{\"end\":140.74285714285713,\"reset_end\":140.74285714285713,\"reset_start\":-4.742857142857143,\"start\":-4.742857142857143,\"tags\":[[[\"text_en\",\"text_en\",null]]]},\"id\":\"7951\",\"type\":\"Range1d\"},{\"attributes\":{},\"id\":\"7993\",\"type\":\"BasicTickFormatter\"},{\"attributes\":{\"below\":[{\"id\":\"7915\"}],\"center\":[{\"id\":\"7918\"},{\"id\":\"7922\"}],\"height\":300,\"left\":[{\"id\":\"7919\"}],\"margin\":null,\"min_border_bottom\":10,\"min_border_left\":10,\"min_border_right\":10,\"min_border_top\":10,\"renderers\":[{\"id\":\"7942\"}],\"sizing_mode\":\"fixed\",\"title\":{\"id\":\"7907\"},\"toolbar\":{\"id\":\"7929\"},\"toolbar_location\":null,\"width\":700,\"x_range\":{\"id\":\"7903\"},\"x_scale\":{\"id\":\"7911\"},\"y_range\":{\"id\":\"7904\"},\"y_scale\":{\"id\":\"7913\"}},\"id\":\"7906\",\"subtype\":\"Figure\",\"type\":\"Plot\"},{\"attributes\":{},\"id\":\"7971\",\"type\":\"SaveTool\"},{\"attributes\":{\"axis_label\":\"text_es\",\"formatter\":{\"id\":\"7945\"},\"major_label_policy\":{\"id\":\"7947\"},\"ticker\":{\"id\":\"7916\"}},\"id\":\"7915\",\"type\":\"LinearAxis\"},{\"attributes\":{},\"id\":\"7911\",\"type\":\"LinearScale\"},{\"attributes\":{\"axis\":{\"id\":\"8011\"},\"grid_line_color\":null,\"ticker\":null},\"id\":\"8014\",\"type\":\"Grid\"},{\"attributes\":{},\"id\":\"8007\",\"type\":\"LinearScale\"},{\"attributes\":{},\"id\":\"8046\",\"type\":\"AllLabels\"},{\"attributes\":{\"axis_label\":\"text_fr\",\"formatter\":{\"id\":\"8041\"},\"major_label_policy\":{\"id\":\"8043\"},\"ticker\":{\"id\":\"8012\"}},\"id\":\"8011\",\"type\":\"LinearAxis\"},{\"attributes\":{},\"id\":\"7975\",\"type\":\"ResetTool\"},{\"attributes\":{\"source\":{\"id\":\"8032\"}},\"id\":\"8039\",\"type\":\"CDSView\"},{\"attributes\":{},\"id\":\"7923\",\"type\":\"SaveTool\"},{\"attributes\":{},\"id\":\"8012\",\"type\":\"BasicTicker\"},{\"attributes\":{},\"id\":\"8077\",\"type\":\"UnionRenderers\"},{\"attributes\":{},\"id\":\"8009\",\"type\":\"LinearScale\"},{\"attributes\":{\"children\":[[{\"id\":\"7906\"},0,0],[{\"id\":\"7954\"},1,0],[{\"id\":\"8002\"},2,0]]},\"id\":\"8080\",\"type\":\"GridBox\"},{\"attributes\":{\"overlay\":{\"id\":\"8024\"}},\"id\":\"8022\",\"type\":\"BoxZoomTool\"},{\"attributes\":{},\"id\":\"8043\",\"type\":\"AllLabels\"},{\"attributes\":{},\"id\":\"8019\",\"type\":\"SaveTool\"},{\"attributes\":{\"data\":{\"left\":{\"__ndarray__\":\"AAAAAAAA8D+amZmZmZkeQJqZmZmZmSxANDMzMzPzNECamZmZmZk7QAAAAAAAIEFANDMzMzNzREBnZmZmZsZHQJqZmZmZGUtAzczMzMxsTkAAAAAAAOBQQJqZmZmZiVJANDMzMzMzVEDNzMzMzNxVQGdmZmZmhldAAAAAAAAwWUCamZmZmdlaQDQzMzMzg1xAzczMzMwsXkBnZmZmZtZfQA==\",\"dtype\":\"float64\",\"order\":\"little\",\"shape\":[20]},\"right\":{\"__ndarray__\":\"mpmZmZmZHkCamZmZmZksQDQzMzMz8zRAmpmZmZmZO0AAAAAAACBBQDQzMzMzc0RAZ2ZmZmbGR0CamZmZmRlLQM3MzMzMbE5AAAAAAADgUECamZmZmYlSQDQzMzMzM1RAzczMzMzcVUBnZmZmZoZXQAAAAAAAMFlAmpmZmZnZWkA0MzMzM4NcQM3MzMzMLF5AZ2ZmZmbWX0AAAAAAAMBgQA==\",\"dtype\":\"float64\",\"order\":\"little\",\"shape\":[20]},\"text_es\":{\"__ndarray__\":\"zczMzMxMEUA0MzMzM/MlQAAAAAAAoDFAZ2ZmZmZGOEDNzMzMzOw+QJqZmZmZyUJAzszMzMwcRkAAAAAAAHBJQDQzMzMzw0xAMzMzMzMLUEDNzMzMzLRRQGdmZmZmXlNAAAAAAAAIVUCamZmZmbFWQDQzMzMzW1hAzczMzMwEWkBnZmZmZq5bQAAAAAAAWF1AmpmZmZkBX0CamZmZmVVgQA==\",\"dtype\":\"float64\",\"order\":\"little\",\"shape\":[20]},\"text_es_count\":[3689,3538,2299,1859,1148,657,489,276,135,104,80,29,24,13,4,3,4,1,0,1],\"top\":[3689,3538,2299,1859,1148,657,489,276,135,104,80,29,24,13,4,3,4,1,0,1]},\"selected\":{\"id\":\"7937\"},\"selection_policy\":{\"id\":\"8055\"}},\"id\":\"7936\",\"type\":\"ColumnDataSource\"},{\"attributes\":{},\"id\":\"8033\",\"type\":\"Selection\"},{\"attributes\":{\"axis\":{\"id\":\"7915\"},\"grid_line_color\":null,\"ticker\":null},\"id\":\"7918\",\"type\":\"Grid\"}],\"root_ids\":[\"7901\"]},\"title\":\"Bokeh Application\",\"version\":\"2.3.0\"}};\n",
       "    var render_items = [{\"docid\":\"438fa3d9-6a6f-4064-99c1-5ab95311b9b7\",\"root_ids\":[\"7901\"],\"roots\":{\"7901\":\"cf1427bd-8af2-4caa-8f54-2475526913e0\"}}];\n",
       "    root.Bokeh.embed.embed_items_notebook(docs_json, render_items);\n",
       "  }\n",
       "  if (root.Bokeh !== undefined && root.Bokeh.Panel !== undefined) {\n",
       "    embed_document(root);\n",
       "  } else {\n",
       "    var attempts = 0;\n",
       "    var timer = setInterval(function(root) {\n",
       "      if (root.Bokeh !== undefined && root.Bokeh.Panel !== undefined) {\n",
       "        clearInterval(timer);\n",
       "        embed_document(root);\n",
       "      } else if (document.readyState == \"complete\") {\n",
       "        attempts++;\n",
       "        if (attempts > 100) {\n",
       "          clearInterval(timer);\n",
       "          console.log(\"Bokeh: ERROR: Unable to run BokehJS code because BokehJS library is missing\");\n",
       "        }\n",
       "      }\n",
       "    }, 10, root)\n",
       "  }\n",
       "})(window);</script>"
      ],
      "text/plain": [
       ":Layout\n",
       "   .Histogram.I   :Histogram   [text_es]   (text_es_count)\n",
       "   .Histogram.II  :Histogram   [text_en]   (text_en_count)\n",
       "   .Histogram.III :Histogram   [text_fr]   (text_fr_count)"
      ]
     },
     "execution_count": 55,
     "metadata": {
      "application/vnd.holoviews_exec.v0+json": {
       "id": "7901"
      }
     },
     "output_type": "execute_result"
    }
   ],
   "source": [
    "plots = []\n",
    "for col in TEXT_COLUMNS:\n",
    "    plots.append(\n",
    "        df[col]\n",
    "        .str.split()\n",
    "        .map(lambda word_list: len(word_list))\n",
    "        .hvplot.hist(title=f\"word count dist. for {col}\")\n",
    "    )\n",
    "# word count distribution\n",
    "hv.Layout(plots).cols(1)"
   ]
  },
  {
   "cell_type": "markdown",
   "metadata": {},
   "source": [
    "# Las 50 palabras más usadas en cada idioma"
   ]
  },
  {
   "cell_type": "code",
   "execution_count": 95,
   "metadata": {},
   "outputs": [
    {
     "data": {},
     "metadata": {},
     "output_type": "display_data"
    },
    {
     "data": {
      "application/vnd.holoviews_exec.v0+json": "",
      "text/html": [
       "<div id='12361'>\n",
       "\n",
       "\n",
       "\n",
       "\n",
       "\n",
       "  <div class=\"bk-root\" id=\"d09b5015-db73-4ed0-b5f3-1f43bda1a464\" data-root-id=\"12361\"></div>\n",
       "</div>\n",
       "<script type=\"application/javascript\">(function(root) {\n",
       "  function embed_document(root) {\n",
       "    var docs_json = {\"9eba4b85-1589-4e68-ac82-b4a0b235a0de\":{\"defs\":[{\"extends\":null,\"module\":null,\"name\":\"DataModel\",\"overrides\":[],\"properties\":[]}],\"roots\":{\"references\":[{\"attributes\":{\"end\":15584.7,\"reset_end\":15584.7,\"reset_start\":0.0,\"tags\":[[[\"0\",\"0\",null]]]},\"id\":\"12364\",\"type\":\"Range1d\"},{\"attributes\":{\"overlay\":{\"id\":\"12481\"}},\"id\":\"12479\",\"type\":\"BoxZoomTool\"},{\"attributes\":{\"children\":[[{\"id\":\"12366\"},0,0],[{\"id\":\"12413\"},1,0],[{\"id\":\"12460\"},2,0]]},\"id\":\"12537\",\"type\":\"GridBox\"},{\"attributes\":{\"overlay\":{\"id\":\"12434\"}},\"id\":\"12432\",\"type\":\"BoxZoomTool\"},{\"attributes\":{},\"id\":\"12409\",\"type\":\"AllLabels\"},{\"attributes\":{},\"id\":\"12454\",\"type\":\"BasicTickFormatter\"},{\"attributes\":{\"factors\":[\"que\",\"de\",\"la\",\"y\",\"en\",\"el\",\"a\",\"es\",\"los\",\"no\",\"lo\",\"por\",\"se\",\"un\",\"las\",\"con\",\"del\",\"una\",\"para\",\"ha\",\"como\",\"pero\",\"al\",\"tambi\\u00e9n\",\"m\\u00e1s\",\"porque\",\"hay\",\"nos\",\"muy\",\"gobierno\",\"si\",\"este\",\"est\\u00e1\",\"yo\",\"o\",\"partido\",\"creo\",\"hemos\",\"eso\",\"esta\",\"le\",\"ya\",\"esa\",\"tiene\",\"tenemos\",\"su\",\"me\",\"estamos\",\"son\",\"desde\"],\"tags\":[[[\"index\",\"index\",null]]]},\"id\":\"12363\",\"type\":\"FactorRange\"},{\"attributes\":{},\"id\":\"12384\",\"type\":\"WheelZoomTool\"},{\"attributes\":{},\"id\":\"12480\",\"type\":\"ResetTool\"},{\"attributes\":{\"fill_color\":{\"value\":\"#1f77b3\"},\"top\":{\"field\":\"A_0\"},\"width\":{\"value\":0.8},\"x\":{\"field\":\"index\"}},\"id\":\"12445\",\"type\":\"VBar\"},{\"attributes\":{},\"id\":\"12430\",\"type\":\"PanTool\"},{\"attributes\":{\"axis\":{\"id\":\"12472\"},\"dimension\":1,\"grid_line_color\":null,\"ticker\":null},\"id\":\"12475\",\"type\":\"Grid\"},{\"attributes\":{},\"id\":\"12383\",\"type\":\"PanTool\"},{\"attributes\":{\"data_source\":{\"id\":\"12442\"},\"glyph\":{\"id\":\"12445\"},\"hover_glyph\":null,\"muted_glyph\":{\"id\":\"12447\"},\"nonselection_glyph\":{\"id\":\"12446\"},\"selection_glyph\":{\"id\":\"12450\"},\"view\":{\"id\":\"12449\"}},\"id\":\"12448\",\"type\":\"GlyphRenderer\"},{\"attributes\":{\"fill_alpha\":{\"value\":0.2},\"fill_color\":{\"value\":\"#1f77b3\"},\"line_alpha\":{\"value\":0.2},\"top\":{\"field\":\"A_0\"},\"width\":{\"value\":0.8},\"x\":{\"field\":\"index\"}},\"id\":\"12447\",\"type\":\"VBar\"},{\"attributes\":{},\"id\":\"12473\",\"type\":\"BasicTicker\"},{\"attributes\":{\"callback\":null,\"renderers\":[{\"id\":\"12401\"}],\"tags\":[\"hv_created\"],\"tooltips\":[[\"index\",\"@{index}\"],[\"0\",\"@{A_0}\"]]},\"id\":\"12365\",\"type\":\"HoverTool\"},{\"attributes\":{\"toolbars\":[{\"id\":\"12388\"},{\"id\":\"12435\"},{\"id\":\"12482\"}],\"tools\":[{\"id\":\"12365\"},{\"id\":\"12382\"},{\"id\":\"12383\"},{\"id\":\"12384\"},{\"id\":\"12385\"},{\"id\":\"12386\"},{\"id\":\"12412\"},{\"id\":\"12429\"},{\"id\":\"12430\"},{\"id\":\"12431\"},{\"id\":\"12432\"},{\"id\":\"12433\"},{\"id\":\"12459\"},{\"id\":\"12476\"},{\"id\":\"12477\"},{\"id\":\"12478\"},{\"id\":\"12479\"},{\"id\":\"12480\"}]},\"id\":\"12538\",\"type\":\"ProxyToolbar\"},{\"attributes\":{},\"id\":\"12418\",\"type\":\"CategoricalScale\"},{\"attributes\":{\"axis_label\":\"\",\"formatter\":{\"id\":\"12501\"},\"major_label_policy\":{\"id\":\"12503\"},\"ticker\":{\"id\":\"12473\"}},\"id\":\"12472\",\"type\":\"LinearAxis\"},{\"attributes\":{},\"id\":\"12382\",\"type\":\"SaveTool\"},{\"attributes\":{},\"id\":\"12477\",\"type\":\"PanTool\"},{\"attributes\":{},\"id\":\"12499\",\"type\":\"AllLabels\"},{\"attributes\":{\"end\":12361.9,\"reset_end\":12361.9,\"reset_start\":0.0,\"tags\":[[[\"0\",\"0\",null]]]},\"id\":\"12458\",\"type\":\"Range1d\"},{\"attributes\":{},\"id\":\"12503\",\"type\":\"AllLabels\"},{\"attributes\":{},\"id\":\"12429\",\"type\":\"SaveTool\"},{\"attributes\":{\"source\":{\"id\":\"12395\"}},\"id\":\"12402\",\"type\":\"CDSView\"},{\"attributes\":{},\"id\":\"12420\",\"type\":\"LinearScale\"},{\"attributes\":{\"data\":{\"A_0\":[14224,13478,8092,7059,6730,6183,5710,4158,3647,3544,3049,2882,2806,2618,2592,2591,2512,2361,2113,1438,1414,1190,1163,1112,1033,1017,1000,972,938,932,931,928,924,901,882,843,785,743,740,724,711,687,670,661,654,644,637,634,624,617],\"index\":[\"que\",\"de\",\"la\",\"y\",\"en\",\"el\",\"a\",\"es\",\"los\",\"no\",\"lo\",\"por\",\"se\",\"un\",\"las\",\"con\",\"del\",\"una\",\"para\",\"ha\",\"como\",\"pero\",\"al\",\"tambi\\u00e9n\",\"m\\u00e1s\",\"porque\",\"hay\",\"nos\",\"muy\",\"gobierno\",\"si\",\"este\",\"est\\u00e1\",\"yo\",\"o\",\"partido\",\"creo\",\"hemos\",\"eso\",\"esta\",\"le\",\"ya\",\"esa\",\"tiene\",\"tenemos\",\"su\",\"me\",\"estamos\",\"son\",\"desde\"]},\"selected\":{\"id\":\"12396\"},\"selection_policy\":{\"id\":\"12512\"}},\"id\":\"12395\",\"type\":\"ColumnDataSource\"},{\"attributes\":{\"bottom_units\":\"screen\",\"fill_alpha\":0.5,\"fill_color\":\"lightgrey\",\"left_units\":\"screen\",\"level\":\"overlay\",\"line_alpha\":1.0,\"line_color\":\"black\",\"line_dash\":[4,4],\"line_width\":2,\"right_units\":\"screen\",\"syncable\":false,\"top_units\":\"screen\"},\"id\":\"12434\",\"type\":\"BoxAnnotation\"},{\"attributes\":{\"factors\":[\"de\",\"et\",\"la\",\"que\",\"le\",\"nous\",\"les\",\"\\u00e0\",\"qui\",\"des\",\"ce\",\"en\",\"je\",\"pas\",\"pour\",\"dans\",\"a\",\"est\",\"un\",\"du\",\"une\",\"il\",\"c\\u2019est\",\"ne\",\"avec\",\"vous\",\"mais\",\"au\",\"cette\",\"qu\\u2019il\",\"plus\",\"par\",\"avons\",\"parce\",\"sur\",\"sont\",\"comme\",\"\\u00e9t\\u00e9\",\"tr\\u00e8s\",\"gouvernement\",\"y\",\"ou\",\"ont\",\"\\u00eatre\",\"si\",\"parti\",\"ces\",\"aussi\",\"fait\",\"tout\"],\"tags\":[[[\"index\",\"index\",null]]]},\"id\":\"12457\",\"type\":\"FactorRange\"},{\"attributes\":{\"axis\":{\"id\":\"12469\"},\"grid_line_color\":null,\"ticker\":null},\"id\":\"12471\",\"type\":\"Grid\"},{\"attributes\":{\"text\":\"0\",\"text_color\":\"black\",\"text_font_size\":\"12pt\"},\"id\":\"12367\",\"type\":\"Title\"},{\"attributes\":{},\"id\":\"12443\",\"type\":\"Selection\"},{\"attributes\":{},\"id\":\"12452\",\"type\":\"AllLabels\"},{\"attributes\":{\"text\":\"0\",\"text_color\":\"black\",\"text_font_size\":\"12pt\"},\"id\":\"12414\",\"type\":\"Title\"},{\"attributes\":{},\"id\":\"12451\",\"type\":\"CategoricalTickFormatter\"},{\"attributes\":{\"source\":{\"id\":\"12442\"}},\"id\":\"12449\",\"type\":\"CDSView\"},{\"attributes\":{\"fill_color\":{\"value\":\"#1f77b3\"},\"top\":{\"field\":\"A_0\"},\"width\":{\"value\":0.8},\"x\":{\"field\":\"index\"}},\"id\":\"12492\",\"type\":\"VBar\"},{\"attributes\":{\"data_source\":{\"id\":\"12395\"},\"glyph\":{\"id\":\"12398\"},\"hover_glyph\":null,\"muted_glyph\":{\"id\":\"12400\"},\"nonselection_glyph\":{\"id\":\"12399\"},\"selection_glyph\":{\"id\":\"12403\"},\"view\":{\"id\":\"12402\"}},\"id\":\"12401\",\"type\":\"GlyphRenderer\"},{\"attributes\":{\"bottom\":{\"value\":0},\"fill_alpha\":{\"value\":1.0},\"fill_color\":{\"value\":\"#1f77b3\"},\"hatch_alpha\":{\"value\":1.0},\"hatch_color\":{\"value\":\"black\"},\"hatch_scale\":{\"value\":12.0},\"hatch_weight\":{\"value\":1.0},\"line_alpha\":{\"value\":1.0},\"line_cap\":{\"value\":\"butt\"},\"line_color\":{\"value\":\"black\"},\"line_dash\":{\"value\":[]},\"line_dash_offset\":{\"value\":0},\"line_join\":{\"value\":\"bevel\"},\"line_width\":{\"value\":1},\"top\":{\"field\":\"A_0\"},\"width\":{\"value\":0.8},\"x\":{\"field\":\"index\"}},\"id\":\"12450\",\"type\":\"VBar\"},{\"attributes\":{\"fill_color\":{\"value\":\"#1f77b3\"},\"top\":{\"field\":\"A_0\"},\"width\":{\"value\":0.8},\"x\":{\"field\":\"index\"}},\"id\":\"12398\",\"type\":\"VBar\"},{\"attributes\":{\"data\":{\"A_0\":[11299,7054,6972,6922,5994,5794,4813,4268,3686,3668,3283,3136,2907,2863,2761,2695,2631,2577,2426,2389,2195,2173,2061,1930,1768,1700,1363,1344,1230,1226,1217,1179,1162,1138,1136,1095,1012,1009,961,926,900,885,872,856,849,803,761,731,683,670],\"index\":[\"de\",\"et\",\"la\",\"que\",\"le\",\"nous\",\"les\",\"\\u00e0\",\"qui\",\"des\",\"ce\",\"en\",\"je\",\"pas\",\"pour\",\"dans\",\"a\",\"est\",\"un\",\"du\",\"une\",\"il\",\"c\\u2019est\",\"ne\",\"avec\",\"vous\",\"mais\",\"au\",\"cette\",\"qu\\u2019il\",\"plus\",\"par\",\"avons\",\"parce\",\"sur\",\"sont\",\"comme\",\"\\u00e9t\\u00e9\",\"tr\\u00e8s\",\"gouvernement\",\"y\",\"ou\",\"ont\",\"\\u00eatre\",\"si\",\"parti\",\"ces\",\"aussi\",\"fait\",\"tout\"]},\"selected\":{\"id\":\"12490\"},\"selection_policy\":{\"id\":\"12534\"}},\"id\":\"12489\",\"type\":\"ColumnDataSource\"},{\"attributes\":{\"callback\":null,\"renderers\":[{\"id\":\"12495\"}],\"tags\":[\"hv_created\"],\"tooltips\":[[\"index\",\"@{index}\"],[\"0\",\"@{A_0}\"]]},\"id\":\"12459\",\"type\":\"HoverTool\"},{\"attributes\":{},\"id\":\"12396\",\"type\":\"Selection\"},{\"attributes\":{\"bottom\":{\"value\":0},\"fill_alpha\":{\"value\":1.0},\"fill_color\":{\"value\":\"#1f77b3\"},\"hatch_alpha\":{\"value\":1.0},\"hatch_color\":{\"value\":\"black\"},\"hatch_scale\":{\"value\":12.0},\"hatch_weight\":{\"value\":1.0},\"line_alpha\":{\"value\":1.0},\"line_cap\":{\"value\":\"butt\"},\"line_color\":{\"value\":\"black\"},\"line_dash\":{\"value\":[]},\"line_dash_offset\":{\"value\":0},\"line_join\":{\"value\":\"bevel\"},\"line_width\":{\"value\":1},\"top\":{\"field\":\"A_0\"},\"width\":{\"value\":0.8},\"x\":{\"field\":\"index\"}},\"id\":\"12497\",\"type\":\"VBar\"},{\"attributes\":{},\"id\":\"12490\",\"type\":\"Selection\"},{\"attributes\":{},\"id\":\"12405\",\"type\":\"AllLabels\"},{\"attributes\":{},\"id\":\"12470\",\"type\":\"CategoricalTicker\"},{\"attributes\":{\"margin\":[5,5,5,5],\"name\":\"HSpacer13647\",\"sizing_mode\":\"stretch_width\"},\"id\":\"12362\",\"type\":\"Spacer\"},{\"attributes\":{\"data_source\":{\"id\":\"12489\"},\"glyph\":{\"id\":\"12492\"},\"hover_glyph\":null,\"muted_glyph\":{\"id\":\"12494\"},\"nonselection_glyph\":{\"id\":\"12493\"},\"selection_glyph\":{\"id\":\"12497\"},\"view\":{\"id\":\"12496\"}},\"id\":\"12495\",\"type\":\"GlyphRenderer\"},{\"attributes\":{\"children\":[{\"id\":\"12362\"},{\"id\":\"12540\"},{\"id\":\"12811\"}],\"margin\":[0,0,0,0],\"name\":\"Row13643\",\"tags\":[\"embedded\"]},\"id\":\"12361\",\"type\":\"Row\"},{\"attributes\":{\"fill_alpha\":{\"value\":0.2},\"fill_color\":{\"value\":\"#1f77b3\"},\"line_alpha\":{\"value\":0.2},\"top\":{\"field\":\"A_0\"},\"width\":{\"value\":0.8},\"x\":{\"field\":\"index\"}},\"id\":\"12400\",\"type\":\"VBar\"},{\"attributes\":{\"axis\":{\"id\":\"12425\"},\"dimension\":1,\"grid_line_color\":null,\"ticker\":null},\"id\":\"12428\",\"type\":\"Grid\"},{\"attributes\":{\"fill_alpha\":{\"value\":0.2},\"fill_color\":{\"value\":\"#1f77b3\"},\"line_alpha\":{\"value\":0.2},\"top\":{\"field\":\"A_0\"},\"width\":{\"value\":0.8},\"x\":{\"field\":\"index\"}},\"id\":\"12494\",\"type\":\"VBar\"},{\"attributes\":{\"fill_alpha\":{\"value\":0.1},\"fill_color\":{\"value\":\"#1f77b3\"},\"line_alpha\":{\"value\":0.1},\"top\":{\"field\":\"A_0\"},\"width\":{\"value\":0.8},\"x\":{\"field\":\"index\"}},\"id\":\"12493\",\"type\":\"VBar\"},{\"attributes\":{\"axis\":{\"id\":\"12378\"},\"dimension\":1,\"grid_line_color\":null,\"ticker\":null},\"id\":\"12381\",\"type\":\"Grid\"},{\"attributes\":{\"axis_label\":\"\",\"formatter\":{\"id\":\"12498\"},\"major_label_orientation\":0.8726646259971648,\"major_label_policy\":{\"id\":\"12499\"},\"ticker\":{\"id\":\"12470\"}},\"id\":\"12469\",\"type\":\"CategoricalAxis\"},{\"attributes\":{\"toolbar\":{\"id\":\"12538\"},\"toolbar_location\":\"above\"},\"id\":\"12539\",\"type\":\"ToolbarBox\"},{\"attributes\":{},\"id\":\"12386\",\"type\":\"ResetTool\"},{\"attributes\":{\"end\":18723.4,\"reset_end\":18723.4,\"reset_start\":0.0,\"tags\":[[[\"0\",\"0\",null]]]},\"id\":\"12411\",\"type\":\"Range1d\"},{\"attributes\":{},\"id\":\"12534\",\"type\":\"UnionRenderers\"},{\"attributes\":{},\"id\":\"12407\",\"type\":\"BasicTickFormatter\"},{\"attributes\":{},\"id\":\"12426\",\"type\":\"BasicTicker\"},{\"attributes\":{\"below\":[{\"id\":\"12422\"}],\"center\":[{\"id\":\"12424\"},{\"id\":\"12428\"}],\"height\":300,\"left\":[{\"id\":\"12425\"}],\"margin\":null,\"min_border_bottom\":10,\"min_border_left\":10,\"min_border_right\":10,\"min_border_top\":10,\"renderers\":[{\"id\":\"12448\"}],\"sizing_mode\":\"fixed\",\"title\":{\"id\":\"12414\"},\"toolbar\":{\"id\":\"12435\"},\"toolbar_location\":null,\"width\":700,\"x_range\":{\"id\":\"12410\"},\"x_scale\":{\"id\":\"12418\"},\"y_range\":{\"id\":\"12411\"},\"y_scale\":{\"id\":\"12420\"}},\"id\":\"12413\",\"subtype\":\"Figure\",\"type\":\"Plot\"},{\"attributes\":{\"bottom\":{\"value\":0},\"fill_alpha\":{\"value\":1.0},\"fill_color\":{\"value\":\"#1f77b3\"},\"hatch_alpha\":{\"value\":1.0},\"hatch_color\":{\"value\":\"black\"},\"hatch_scale\":{\"value\":12.0},\"hatch_weight\":{\"value\":1.0},\"line_alpha\":{\"value\":1.0},\"line_cap\":{\"value\":\"butt\"},\"line_color\":{\"value\":\"black\"},\"line_dash\":{\"value\":[]},\"line_dash_offset\":{\"value\":0},\"line_join\":{\"value\":\"bevel\"},\"line_width\":{\"value\":1},\"top\":{\"field\":\"A_0\"},\"width\":{\"value\":0.8},\"x\":{\"field\":\"index\"}},\"id\":\"12403\",\"type\":\"VBar\"},{\"attributes\":{\"overlay\":{\"id\":\"12387\"}},\"id\":\"12385\",\"type\":\"BoxZoomTool\"},{\"attributes\":{},\"id\":\"12376\",\"type\":\"CategoricalTicker\"},{\"attributes\":{\"callback\":null,\"renderers\":[{\"id\":\"12448\"}],\"tags\":[\"hv_created\"],\"tooltips\":[[\"index\",\"@{index}\"],[\"0\",\"@{A_0}\"]]},\"id\":\"12412\",\"type\":\"HoverTool\"},{\"attributes\":{},\"id\":\"12478\",\"type\":\"WheelZoomTool\"},{\"attributes\":{\"below\":[{\"id\":\"12375\"}],\"center\":[{\"id\":\"12377\"},{\"id\":\"12381\"}],\"height\":300,\"left\":[{\"id\":\"12378\"}],\"margin\":null,\"min_border_bottom\":10,\"min_border_left\":10,\"min_border_right\":10,\"min_border_top\":10,\"renderers\":[{\"id\":\"12401\"}],\"sizing_mode\":\"fixed\",\"title\":{\"id\":\"12367\"},\"toolbar\":{\"id\":\"12388\"},\"toolbar_location\":null,\"width\":700,\"x_range\":{\"id\":\"12363\"},\"x_scale\":{\"id\":\"12371\"},\"y_range\":{\"id\":\"12364\"},\"y_scale\":{\"id\":\"12373\"}},\"id\":\"12366\",\"subtype\":\"Figure\",\"type\":\"Plot\"},{\"attributes\":{},\"id\":\"12379\",\"type\":\"BasicTicker\"},{\"attributes\":{\"source\":{\"id\":\"12489\"}},\"id\":\"12496\",\"type\":\"CDSView\"},{\"attributes\":{\"axis_label\":\"\",\"formatter\":{\"id\":\"12454\"},\"major_label_policy\":{\"id\":\"12456\"},\"ticker\":{\"id\":\"12426\"}},\"id\":\"12425\",\"type\":\"LinearAxis\"},{\"attributes\":{},\"id\":\"12467\",\"type\":\"LinearScale\"},{\"attributes\":{\"data\":{\"A_0\":[17079,8643,8362,7526,7159,5272,5051,4703,4555,3176,3163,2989,2553,2349,2332,2164,2145,2134,1838,1675,1608,1435,1364,1270,1197,1184,1097,1076,1061,1045,1019,1000,954,954,949,891,887,871,851,849,842,841,841,840,814,790,693,691,686,635],\"index\":[\"the\",\"to\",\"of\",\"that\",\"and\",\"in\",\"is\",\"we\",\"a\",\"have\",\"i\",\"it\",\"are\",\"this\",\"for\",\"with\",\"not\",\"you\",\"be\",\"has\",\"what\",\"as\",\"but\",\"on\",\"because\",\"also\",\"there\",\"they\",\"all\",\"very\",\"will\",\"do\",\"which\",\"been\",\"from\",\"or\",\"government\",\"if\",\"at\",\"our\",\"was\",\"by\",\"think\",\"who\",\"an\",\"about\",\"can\",\"it's\",\"going\",\"so\"]},\"selected\":{\"id\":\"12443\"},\"selection_policy\":{\"id\":\"12523\"}},\"id\":\"12442\",\"type\":\"ColumnDataSource\"},{\"attributes\":{},\"id\":\"12523\",\"type\":\"UnionRenderers\"},{\"attributes\":{\"active_multi\":null,\"tools\":[{\"id\":\"12459\"},{\"id\":\"12476\"},{\"id\":\"12477\"},{\"id\":\"12478\"},{\"id\":\"12479\"},{\"id\":\"12480\"}]},\"id\":\"12482\",\"type\":\"Toolbar\"},{\"attributes\":{\"axis\":{\"id\":\"12422\"},\"grid_line_color\":null,\"ticker\":null},\"id\":\"12424\",\"type\":\"Grid\"},{\"attributes\":{},\"id\":\"12465\",\"type\":\"CategoricalScale\"},{\"attributes\":{\"active_multi\":null,\"tools\":[{\"id\":\"12365\"},{\"id\":\"12382\"},{\"id\":\"12383\"},{\"id\":\"12384\"},{\"id\":\"12385\"},{\"id\":\"12386\"}]},\"id\":\"12388\",\"type\":\"Toolbar\"},{\"attributes\":{},\"id\":\"12371\",\"type\":\"CategoricalScale\"},{\"attributes\":{\"axis_label\":\"\",\"formatter\":{\"id\":\"12407\"},\"major_label_policy\":{\"id\":\"12409\"},\"ticker\":{\"id\":\"12379\"}},\"id\":\"12378\",\"type\":\"LinearAxis\"},{\"attributes\":{},\"id\":\"12498\",\"type\":\"CategoricalTickFormatter\"},{\"attributes\":{},\"id\":\"12476\",\"type\":\"SaveTool\"},{\"attributes\":{},\"id\":\"12456\",\"type\":\"AllLabels\"},{\"attributes\":{},\"id\":\"12433\",\"type\":\"ResetTool\"},{\"attributes\":{\"text\":\"0\",\"text_color\":\"black\",\"text_font_size\":\"12pt\"},\"id\":\"12461\",\"type\":\"Title\"},{\"attributes\":{\"bottom_units\":\"screen\",\"fill_alpha\":0.5,\"fill_color\":\"lightgrey\",\"left_units\":\"screen\",\"level\":\"overlay\",\"line_alpha\":1.0,\"line_color\":\"black\",\"line_dash\":[4,4],\"line_width\":2,\"right_units\":\"screen\",\"syncable\":false,\"top_units\":\"screen\"},\"id\":\"12387\",\"type\":\"BoxAnnotation\"},{\"attributes\":{},\"id\":\"12423\",\"type\":\"CategoricalTicker\"},{\"attributes\":{\"bottom_units\":\"screen\",\"fill_alpha\":0.5,\"fill_color\":\"lightgrey\",\"left_units\":\"screen\",\"level\":\"overlay\",\"line_alpha\":1.0,\"line_color\":\"black\",\"line_dash\":[4,4],\"line_width\":2,\"right_units\":\"screen\",\"syncable\":false,\"top_units\":\"screen\"},\"id\":\"12481\",\"type\":\"BoxAnnotation\"},{\"attributes\":{\"axis_label\":\"\",\"formatter\":{\"id\":\"12404\"},\"major_label_orientation\":0.8726646259971648,\"major_label_policy\":{\"id\":\"12405\"},\"ticker\":{\"id\":\"12376\"}},\"id\":\"12375\",\"type\":\"CategoricalAxis\"},{\"attributes\":{\"below\":[{\"id\":\"12469\"}],\"center\":[{\"id\":\"12471\"},{\"id\":\"12475\"}],\"height\":300,\"left\":[{\"id\":\"12472\"}],\"margin\":null,\"min_border_bottom\":10,\"min_border_left\":10,\"min_border_right\":10,\"min_border_top\":10,\"renderers\":[{\"id\":\"12495\"}],\"sizing_mode\":\"fixed\",\"title\":{\"id\":\"12461\"},\"toolbar\":{\"id\":\"12482\"},\"toolbar_location\":null,\"width\":700,\"x_range\":{\"id\":\"12457\"},\"x_scale\":{\"id\":\"12465\"},\"y_range\":{\"id\":\"12458\"},\"y_scale\":{\"id\":\"12467\"}},\"id\":\"12460\",\"subtype\":\"Figure\",\"type\":\"Plot\"},{\"attributes\":{\"active_multi\":null,\"tools\":[{\"id\":\"12412\"},{\"id\":\"12429\"},{\"id\":\"12430\"},{\"id\":\"12431\"},{\"id\":\"12432\"},{\"id\":\"12433\"}]},\"id\":\"12435\",\"type\":\"Toolbar\"},{\"attributes\":{\"margin\":[5,5,5,5],\"name\":\"HSpacer13648\",\"sizing_mode\":\"stretch_width\"},\"id\":\"12811\",\"type\":\"Spacer\"},{\"attributes\":{\"children\":[{\"id\":\"12539\"},{\"id\":\"12537\"}]},\"id\":\"12540\",\"type\":\"Column\"},{\"attributes\":{},\"id\":\"12512\",\"type\":\"UnionRenderers\"},{\"attributes\":{\"fill_alpha\":{\"value\":0.1},\"fill_color\":{\"value\":\"#1f77b3\"},\"line_alpha\":{\"value\":0.1},\"top\":{\"field\":\"A_0\"},\"width\":{\"value\":0.8},\"x\":{\"field\":\"index\"}},\"id\":\"12446\",\"type\":\"VBar\"},{\"attributes\":{},\"id\":\"12373\",\"type\":\"LinearScale\"},{\"attributes\":{},\"id\":\"12404\",\"type\":\"CategoricalTickFormatter\"},{\"attributes\":{\"axis_label\":\"\",\"formatter\":{\"id\":\"12451\"},\"major_label_orientation\":0.8726646259971648,\"major_label_policy\":{\"id\":\"12452\"},\"ticker\":{\"id\":\"12423\"}},\"id\":\"12422\",\"type\":\"CategoricalAxis\"},{\"attributes\":{},\"id\":\"12431\",\"type\":\"WheelZoomTool\"},{\"attributes\":{\"axis\":{\"id\":\"12375\"},\"grid_line_color\":null,\"ticker\":null},\"id\":\"12377\",\"type\":\"Grid\"},{\"attributes\":{\"fill_alpha\":{\"value\":0.1},\"fill_color\":{\"value\":\"#1f77b3\"},\"line_alpha\":{\"value\":0.1},\"top\":{\"field\":\"A_0\"},\"width\":{\"value\":0.8},\"x\":{\"field\":\"index\"}},\"id\":\"12399\",\"type\":\"VBar\"},{\"attributes\":{\"factors\":[\"the\",\"to\",\"of\",\"that\",\"and\",\"in\",\"is\",\"we\",\"a\",\"have\",\"i\",\"it\",\"are\",\"this\",\"for\",\"with\",\"not\",\"you\",\"be\",\"has\",\"what\",\"as\",\"but\",\"on\",\"because\",\"also\",\"there\",\"they\",\"all\",\"very\",\"will\",\"do\",\"which\",\"been\",\"from\",\"or\",\"government\",\"if\",\"at\",\"our\",\"was\",\"by\",\"think\",\"who\",\"an\",\"about\",\"can\",\"it's\",\"going\",\"so\"],\"tags\":[[[\"index\",\"index\",null]]]},\"id\":\"12410\",\"type\":\"FactorRange\"},{\"attributes\":{},\"id\":\"12501\",\"type\":\"BasicTickFormatter\"}],\"root_ids\":[\"12361\"]},\"title\":\"Bokeh Application\",\"version\":\"2.3.0\"}};\n",
       "    var render_items = [{\"docid\":\"9eba4b85-1589-4e68-ac82-b4a0b235a0de\",\"root_ids\":[\"12361\"],\"roots\":{\"12361\":\"d09b5015-db73-4ed0-b5f3-1f43bda1a464\"}}];\n",
       "    root.Bokeh.embed.embed_items_notebook(docs_json, render_items);\n",
       "  }\n",
       "  if (root.Bokeh !== undefined && root.Bokeh.Panel !== undefined) {\n",
       "    embed_document(root);\n",
       "  } else {\n",
       "    var attempts = 0;\n",
       "    var timer = setInterval(function(root) {\n",
       "      if (root.Bokeh !== undefined && root.Bokeh.Panel !== undefined) {\n",
       "        clearInterval(timer);\n",
       "        embed_document(root);\n",
       "      } else if (document.readyState == \"complete\") {\n",
       "        attempts++;\n",
       "        if (attempts > 100) {\n",
       "          clearInterval(timer);\n",
       "          console.log(\"Bokeh: ERROR: Unable to run BokehJS code because BokehJS library is missing\");\n",
       "        }\n",
       "      }\n",
       "    }, 10, root)\n",
       "  }\n",
       "})(window);</script>"
      ],
      "text/plain": [
       ":Layout\n",
       "   .Bars.A_0.I   :Bars   [index]   (0)\n",
       "   .Bars.A_0.II  :Bars   [index]   (0)\n",
       "   .Bars.A_0.III :Bars   [index]   (0)"
      ]
     },
     "execution_count": 95,
     "metadata": {
      "application/vnd.holoviews_exec.v0+json": {
       "id": "12361"
      }
     },
     "output_type": "execute_result"
    }
   ],
   "source": [
    "plots = []\n",
    "for col in TEXT_COLUMNS:\n",
    "    plots.append(df[col].str.lower().str.split(expand=True).stack().value_counts()[\n",
    "        :50\n",
    "    ].hvplot.bar().opts(xrotation=50, axiswise=True))\n",
    "hv.Layout(plots).cols(1)"
   ]
  },
  {
   "cell_type": "code",
   "execution_count": 66,
   "metadata": {},
   "outputs": [
    {
     "data": {
      "text/plain": [
       "array([' Es ese gran PP de los 10 millones de votos del año del año 2011.'],\n",
       "      dtype=object)"
      ]
     },
     "execution_count": 66,
     "metadata": {},
     "output_type": "execute_result"
    }
   ],
   "source": [
    "df[df[\"claim\"] == 1][\"text_es\"].sample().values"
   ]
  },
  {
   "cell_type": "code",
   "execution_count": null,
   "metadata": {},
   "outputs": [],
   "source": []
  }
 ],
 "metadata": {
  "kernelspec": {
   "display_name": "Python 3",
   "language": "python",
   "name": "python3"
  },
  "language_info": {
   "codemirror_mode": {
    "name": "ipython",
    "version": 3
   },
   "file_extension": ".py",
   "mimetype": "text/x-python",
   "name": "python",
   "nbconvert_exporter": "python",
   "pygments_lexer": "ipython3",
   "version": "3.7.3"
  }
 },
 "nbformat": 4,
 "nbformat_minor": 2
}
