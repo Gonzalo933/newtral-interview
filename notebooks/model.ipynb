{
  "nbformat": 4,
  "nbformat_minor": 0,
  "metadata": {
    "colab": {
      "name": "model.ipynb",
      "provenance": [],
      "collapsed_sections": [],
      "toc_visible": true,
      "include_colab_link": true
    },
    "kernelspec": {
      "display_name": "Python 3",
      "language": "python",
      "name": "python3"
    },
    "language_info": {
      "codemirror_mode": {
        "name": "ipython",
        "version": 3
      },
      "file_extension": ".py",
      "mimetype": "text/x-python",
      "name": "python",
      "nbconvert_exporter": "python",
      "pygments_lexer": "ipython3",
      "version": "3.7.3"
    },
    "accelerator": "GPU"
  },
  "cells": [
    {
      "cell_type": "markdown",
      "metadata": {
        "id": "view-in-github",
        "colab_type": "text"
      },
      "source": [
        "<a href=\"https://colab.research.google.com/github/Gonzalo933/newtral-interview/blob/feature%2Fmodel/notebooks/model.ipynb\" target=\"_parent\"><img src=\"https://colab.research.google.com/assets/colab-badge.svg\" alt=\"Open In Colab\"/></a>"
      ]
    },
    {
      "cell_type": "code",
      "metadata": {
        "id": "45KfrxEdHYo0",
        "outputId": "f7a81dec-728a-4032-c3f8-ecb124c6d07c",
        "colab": {
          "base_uri": "https://localhost:8080/"
        }
      },
      "source": [
        "!pip install dvc\n",
        "!pip install transformers\n",
        "!pip install mlflow==1.15.0"
      ],
      "execution_count": 27,
      "outputs": [
        {
          "output_type": "stream",
          "text": [
            "Requirement already satisfied: dvc in /usr/local/lib/python3.7/dist-packages (2.0.18)\n",
            "Requirement already satisfied: flatten-dict<1,>=0.3.0 in /usr/local/lib/python3.7/dist-packages (from dvc) (0.3.0)\n",
            "Requirement already satisfied: nanotime>=0.5.2 in /usr/local/lib/python3.7/dist-packages (from dvc) (0.5.2)\n",
            "Requirement already satisfied: pygit2>=1.5.0 in /usr/local/lib/python3.7/dist-packages (from dvc) (1.5.0)\n",
            "Requirement already satisfied: dulwich>=0.20.21 in /usr/local/lib/python3.7/dist-packages (from dvc) (0.20.21)\n",
            "Requirement already satisfied: packaging>=19.0 in /usr/local/lib/python3.7/dist-packages (from dvc) (20.9)\n",
            "Requirement already satisfied: zc.lockfile>=1.2.1 in /usr/local/lib/python3.7/dist-packages (from dvc) (2.0)\n",
            "Requirement already satisfied: shtab<2,>=1.3.4 in /usr/local/lib/python3.7/dist-packages (from dvc) (1.3.5)\n",
            "Requirement already satisfied: tabulate>=0.8.7 in /usr/local/lib/python3.7/dist-packages (from dvc) (0.8.9)\n",
            "Requirement already satisfied: requests>=2.22.0 in /usr/local/lib/python3.7/dist-packages (from dvc) (2.23.0)\n",
            "Requirement already satisfied: distro>=1.3.0 in /usr/local/lib/python3.7/dist-packages (from dvc) (1.5.0)\n",
            "Requirement already satisfied: diskcache>=5.2.1 in /usr/local/lib/python3.7/dist-packages (from dvc) (5.2.1)\n",
            "Requirement already satisfied: typing-extensions>=3.7.4 in /usr/local/lib/python3.7/dist-packages (from dvc) (3.7.4.3)\n",
            "Requirement already satisfied: pydot>=1.2.4 in /usr/local/lib/python3.7/dist-packages (from dvc) (1.3.0)\n",
            "Requirement already satisfied: voluptuous>=0.11.7 in /usr/local/lib/python3.7/dist-packages (from dvc) (0.12.1)\n",
            "Requirement already satisfied: python-benedict>=0.21.1 in /usr/local/lib/python3.7/dist-packages (from dvc) (0.23.2)\n",
            "Requirement already satisfied: dpath<3,>=2.0.1 in /usr/local/lib/python3.7/dist-packages (from dvc) (2.0.1)\n",
            "Requirement already satisfied: pygtrie==2.3.2 in /usr/local/lib/python3.7/dist-packages (from dvc) (2.3.2)\n",
            "Requirement already satisfied: dictdiffer>=0.8.1 in /usr/local/lib/python3.7/dist-packages (from dvc) (0.8.1)\n",
            "Requirement already satisfied: flufl.lock<4,>=3.2 in /usr/local/lib/python3.7/dist-packages (from dvc) (3.2)\n",
            "Requirement already satisfied: ruamel.yaml>=0.16.1 in /usr/local/lib/python3.7/dist-packages (from dvc) (0.17.4)\n",
            "Requirement already satisfied: jsonpath-ng>=1.5.1 in /usr/local/lib/python3.7/dist-packages (from dvc) (1.5.2)\n",
            "Requirement already satisfied: ply>=3.9 in /usr/local/lib/python3.7/dist-packages (from dvc) (3.11)\n",
            "Requirement already satisfied: pyasn1>=0.4.1 in /usr/local/lib/python3.7/dist-packages (from dvc) (0.4.8)\n",
            "Requirement already satisfied: appdirs>=1.4.3 in /usr/local/lib/python3.7/dist-packages (from dvc) (1.4.4)\n",
            "Requirement already satisfied: pathspec>=0.6.0 in /usr/local/lib/python3.7/dist-packages (from dvc) (0.8.1)\n",
            "Requirement already satisfied: pyparsing==2.4.7 in /usr/local/lib/python3.7/dist-packages (from dvc) (2.4.7)\n",
            "Requirement already satisfied: setuptools>=34.0.0 in /usr/local/lib/python3.7/dist-packages (from dvc) (56.0.0)\n",
            "Requirement already satisfied: shortuuid>=0.5.0 in /usr/local/lib/python3.7/dist-packages (from dvc) (1.0.1)\n",
            "Requirement already satisfied: toml>=0.10.1 in /usr/local/lib/python3.7/dist-packages (from dvc) (0.10.2)\n",
            "Requirement already satisfied: configobj>=5.0.6 in /usr/local/lib/python3.7/dist-packages (from dvc) (5.0.6)\n",
            "Requirement already satisfied: psutil>=5.8.0 in /usr/local/lib/python3.7/dist-packages (from dvc) (5.8.0)\n",
            "Requirement already satisfied: gitpython>3 in /usr/local/lib/python3.7/dist-packages (from dvc) (3.1.14)\n",
            "Requirement already satisfied: rich>=10.0.0 in /usr/local/lib/python3.7/dist-packages (from dvc) (10.1.0)\n",
            "Requirement already satisfied: funcy>=1.14 in /usr/local/lib/python3.7/dist-packages (from dvc) (1.15)\n",
            "Requirement already satisfied: colorama>=0.3.9 in /usr/local/lib/python3.7/dist-packages (from dvc) (0.4.4)\n",
            "Requirement already satisfied: grandalf==0.6 in /usr/local/lib/python3.7/dist-packages (from dvc) (0.6)\n",
            "Requirement already satisfied: tqdm<5,>=4.45.0 in /usr/local/lib/python3.7/dist-packages (from dvc) (4.60.0)\n",
            "Requirement already satisfied: networkx>=2.1 in /usr/local/lib/python3.7/dist-packages (from dvc) (2.5.1)\n",
            "Requirement already satisfied: fsspec==0.9.0 in /usr/local/lib/python3.7/dist-packages (from dvc) (0.9.0)\n",
            "Requirement already satisfied: six<2.0,>=1.12 in /usr/local/lib/python3.7/dist-packages (from flatten-dict<1,>=0.3.0->dvc) (1.15.0)\n",
            "Requirement already satisfied: pathlib2<3.0,>=2.3 in /usr/local/lib/python3.7/dist-packages (from flatten-dict<1,>=0.3.0->dvc) (2.3.5)\n",
            "Requirement already satisfied: cffi>=1.4.0 in /usr/local/lib/python3.7/dist-packages (from pygit2>=1.5.0->dvc) (1.14.5)\n",
            "Requirement already satisfied: cached-property in /usr/local/lib/python3.7/dist-packages (from pygit2>=1.5.0->dvc) (1.5.2)\n",
            "Requirement already satisfied: urllib3>=1.24.1 in /usr/local/lib/python3.7/dist-packages (from dulwich>=0.20.21->dvc) (1.24.3)\n",
            "Requirement already satisfied: certifi in /usr/local/lib/python3.7/dist-packages (from dulwich>=0.20.21->dvc) (2020.12.5)\n",
            "Requirement already satisfied: idna<3,>=2.5 in /usr/local/lib/python3.7/dist-packages (from requests>=2.22.0->dvc) (2.10)\n",
            "Requirement already satisfied: chardet<4,>=3.0.2 in /usr/local/lib/python3.7/dist-packages (from requests>=2.22.0->dvc) (3.0.4)\n",
            "Requirement already satisfied: python-dateutil in /usr/local/lib/python3.7/dist-packages (from python-benedict>=0.21.1->dvc) (2.8.1)\n",
            "Requirement already satisfied: phonenumbers in /usr/local/lib/python3.7/dist-packages (from python-benedict>=0.21.1->dvc) (8.12.21)\n",
            "Requirement already satisfied: mailchecker in /usr/local/lib/python3.7/dist-packages (from python-benedict>=0.21.1->dvc) (4.0.6)\n",
            "Requirement already satisfied: python-fsutil in /usr/local/lib/python3.7/dist-packages (from python-benedict>=0.21.1->dvc) (0.4.0)\n",
            "Requirement already satisfied: pyyaml in /usr/local/lib/python3.7/dist-packages (from python-benedict>=0.21.1->dvc) (3.13)\n",
            "Requirement already satisfied: ftfy; python_version > \"2.7\" in /usr/local/lib/python3.7/dist-packages (from python-benedict>=0.21.1->dvc) (6.0.1)\n",
            "Requirement already satisfied: python-slugify in /usr/local/lib/python3.7/dist-packages (from python-benedict>=0.21.1->dvc) (4.0.1)\n",
            "Requirement already satisfied: xmltodict in /usr/local/lib/python3.7/dist-packages (from python-benedict>=0.21.1->dvc) (0.12.0)\n",
            "Requirement already satisfied: atpublic in /usr/local/lib/python3.7/dist-packages (from flufl.lock<4,>=3.2->dvc) (2.3)\n",
            "Requirement already satisfied: ruamel.yaml.clib>=0.1.2; platform_python_implementation == \"CPython\" and python_version < \"3.10\" in /usr/local/lib/python3.7/dist-packages (from ruamel.yaml>=0.16.1->dvc) (0.2.2)\n",
            "Requirement already satisfied: decorator in /usr/local/lib/python3.7/dist-packages (from jsonpath-ng>=1.5.1->dvc) (4.4.2)\n",
            "Requirement already satisfied: gitdb<5,>=4.0.1 in /usr/local/lib/python3.7/dist-packages (from gitpython>3->dvc) (4.0.7)\n",
            "Requirement already satisfied: pygments<3.0.0,>=2.6.0 in /usr/local/lib/python3.7/dist-packages (from rich>=10.0.0->dvc) (2.6.1)\n",
            "Requirement already satisfied: commonmark<0.10.0,>=0.9.0 in /usr/local/lib/python3.7/dist-packages (from rich>=10.0.0->dvc) (0.9.1)\n",
            "Requirement already satisfied: future in /usr/local/lib/python3.7/dist-packages (from grandalf==0.6->dvc) (0.16.0)\n",
            "Requirement already satisfied: importlib-metadata; python_version < \"3.8\" in /usr/local/lib/python3.7/dist-packages (from fsspec==0.9.0->dvc) (3.10.1)\n",
            "Requirement already satisfied: pycparser in /usr/local/lib/python3.7/dist-packages (from cffi>=1.4.0->pygit2>=1.5.0->dvc) (2.20)\n",
            "Requirement already satisfied: wcwidth in /usr/local/lib/python3.7/dist-packages (from ftfy; python_version > \"2.7\"->python-benedict>=0.21.1->dvc) (0.2.5)\n",
            "Requirement already satisfied: text-unidecode>=1.3 in /usr/local/lib/python3.7/dist-packages (from python-slugify->python-benedict>=0.21.1->dvc) (1.3)\n",
            "Requirement already satisfied: smmap<5,>=3.0.1 in /usr/local/lib/python3.7/dist-packages (from gitdb<5,>=4.0.1->gitpython>3->dvc) (4.0.0)\n",
            "Requirement already satisfied: zipp>=0.5 in /usr/local/lib/python3.7/dist-packages (from importlib-metadata; python_version < \"3.8\"->fsspec==0.9.0->dvc) (3.4.1)\n",
            "Requirement already satisfied: transformers in /usr/local/lib/python3.7/dist-packages (4.5.1)\n",
            "Requirement already satisfied: requests in /usr/local/lib/python3.7/dist-packages (from transformers) (2.23.0)\n",
            "Requirement already satisfied: importlib-metadata; python_version < \"3.8\" in /usr/local/lib/python3.7/dist-packages (from transformers) (3.10.1)\n",
            "Requirement already satisfied: tqdm>=4.27 in /usr/local/lib/python3.7/dist-packages (from transformers) (4.60.0)\n",
            "Requirement already satisfied: numpy>=1.17 in /usr/local/lib/python3.7/dist-packages (from transformers) (1.19.5)\n",
            "Requirement already satisfied: sacremoses in /usr/local/lib/python3.7/dist-packages (from transformers) (0.0.45)\n",
            "Requirement already satisfied: tokenizers<0.11,>=0.10.1 in /usr/local/lib/python3.7/dist-packages (from transformers) (0.10.2)\n",
            "Requirement already satisfied: filelock in /usr/local/lib/python3.7/dist-packages (from transformers) (3.0.12)\n",
            "Requirement already satisfied: packaging in /usr/local/lib/python3.7/dist-packages (from transformers) (20.9)\n",
            "Requirement already satisfied: regex!=2019.12.17 in /usr/local/lib/python3.7/dist-packages (from transformers) (2019.12.20)\n",
            "Requirement already satisfied: idna<3,>=2.5 in /usr/local/lib/python3.7/dist-packages (from requests->transformers) (2.10)\n",
            "Requirement already satisfied: chardet<4,>=3.0.2 in /usr/local/lib/python3.7/dist-packages (from requests->transformers) (3.0.4)\n",
            "Requirement already satisfied: urllib3!=1.25.0,!=1.25.1,<1.26,>=1.21.1 in /usr/local/lib/python3.7/dist-packages (from requests->transformers) (1.24.3)\n",
            "Requirement already satisfied: certifi>=2017.4.17 in /usr/local/lib/python3.7/dist-packages (from requests->transformers) (2020.12.5)\n",
            "Requirement already satisfied: typing-extensions>=3.6.4; python_version < \"3.8\" in /usr/local/lib/python3.7/dist-packages (from importlib-metadata; python_version < \"3.8\"->transformers) (3.7.4.3)\n",
            "Requirement already satisfied: zipp>=0.5 in /usr/local/lib/python3.7/dist-packages (from importlib-metadata; python_version < \"3.8\"->transformers) (3.4.1)\n",
            "Requirement already satisfied: six in /usr/local/lib/python3.7/dist-packages (from sacremoses->transformers) (1.15.0)\n",
            "Requirement already satisfied: click in /usr/local/lib/python3.7/dist-packages (from sacremoses->transformers) (7.1.2)\n",
            "Requirement already satisfied: joblib in /usr/local/lib/python3.7/dist-packages (from sacremoses->transformers) (1.0.1)\n",
            "Requirement already satisfied: pyparsing>=2.0.2 in /usr/local/lib/python3.7/dist-packages (from packaging->transformers) (2.4.7)\n",
            "Requirement already satisfied: mlflow==1.15.0 in /usr/local/lib/python3.7/dist-packages (1.15.0)\n",
            "Requirement already satisfied: alembic<=1.4.1 in /usr/local/lib/python3.7/dist-packages (from mlflow==1.15.0) (1.4.1)\n",
            "Requirement already satisfied: gunicorn; platform_system != \"Windows\" in /usr/local/lib/python3.7/dist-packages (from mlflow==1.15.0) (20.1.0)\n",
            "Requirement already satisfied: pytz in /usr/local/lib/python3.7/dist-packages (from mlflow==1.15.0) (2018.9)\n",
            "Requirement already satisfied: querystring-parser in /usr/local/lib/python3.7/dist-packages (from mlflow==1.15.0) (1.2.4)\n",
            "Requirement already satisfied: cloudpickle in /usr/local/lib/python3.7/dist-packages (from mlflow==1.15.0) (1.3.0)\n",
            "Requirement already satisfied: pandas in /usr/local/lib/python3.7/dist-packages (from mlflow==1.15.0) (1.1.5)\n",
            "Requirement already satisfied: entrypoints in /usr/local/lib/python3.7/dist-packages (from mlflow==1.15.0) (0.3)\n",
            "Requirement already satisfied: docker>=4.0.0 in /usr/local/lib/python3.7/dist-packages (from mlflow==1.15.0) (5.0.0)\n",
            "Requirement already satisfied: sqlalchemy in /usr/local/lib/python3.7/dist-packages (from mlflow==1.15.0) (1.4.7)\n",
            "Requirement already satisfied: click>=7.0 in /usr/local/lib/python3.7/dist-packages (from mlflow==1.15.0) (7.1.2)\n",
            "Requirement already satisfied: numpy in /usr/local/lib/python3.7/dist-packages (from mlflow==1.15.0) (1.19.5)\n",
            "Requirement already satisfied: databricks-cli>=0.8.7 in /usr/local/lib/python3.7/dist-packages (from mlflow==1.15.0) (0.14.3)\n",
            "Requirement already satisfied: sqlparse>=0.3.1 in /usr/local/lib/python3.7/dist-packages (from mlflow==1.15.0) (0.4.1)\n",
            "Requirement already satisfied: gitpython>=2.1.0 in /usr/local/lib/python3.7/dist-packages (from mlflow==1.15.0) (3.1.14)\n",
            "Requirement already satisfied: prometheus-flask-exporter in /usr/local/lib/python3.7/dist-packages (from mlflow==1.15.0) (0.18.1)\n",
            "Requirement already satisfied: Flask in /usr/local/lib/python3.7/dist-packages (from mlflow==1.15.0) (1.1.2)\n",
            "Requirement already satisfied: pyyaml in /usr/local/lib/python3.7/dist-packages (from mlflow==1.15.0) (3.13)\n",
            "Requirement already satisfied: requests>=2.17.3 in /usr/local/lib/python3.7/dist-packages (from mlflow==1.15.0) (2.23.0)\n",
            "Requirement already satisfied: protobuf>=3.6.0 in /usr/local/lib/python3.7/dist-packages (from mlflow==1.15.0) (3.12.4)\n",
            "Requirement already satisfied: Mako in /usr/local/lib/python3.7/dist-packages (from alembic<=1.4.1->mlflow==1.15.0) (1.1.4)\n",
            "Requirement already satisfied: python-dateutil in /usr/local/lib/python3.7/dist-packages (from alembic<=1.4.1->mlflow==1.15.0) (2.8.1)\n",
            "Requirement already satisfied: python-editor>=0.3 in /usr/local/lib/python3.7/dist-packages (from alembic<=1.4.1->mlflow==1.15.0) (1.0.4)\n",
            "Requirement already satisfied: setuptools>=3.0 in /usr/local/lib/python3.7/dist-packages (from gunicorn; platform_system != \"Windows\"->mlflow==1.15.0) (56.0.0)\n",
            "Requirement already satisfied: six in /usr/local/lib/python3.7/dist-packages (from querystring-parser->mlflow==1.15.0) (1.15.0)\n",
            "Requirement already satisfied: websocket-client>=0.32.0 in /usr/local/lib/python3.7/dist-packages (from docker>=4.0.0->mlflow==1.15.0) (0.58.0)\n",
            "Requirement already satisfied: greenlet!=0.4.17; python_version >= \"3\" in /usr/local/lib/python3.7/dist-packages (from sqlalchemy->mlflow==1.15.0) (1.0.0)\n",
            "Requirement already satisfied: importlib-metadata; python_version < \"3.8\" in /usr/local/lib/python3.7/dist-packages (from sqlalchemy->mlflow==1.15.0) (3.10.1)\n",
            "Requirement already satisfied: tabulate>=0.7.7 in /usr/local/lib/python3.7/dist-packages (from databricks-cli>=0.8.7->mlflow==1.15.0) (0.8.9)\n",
            "Requirement already satisfied: gitdb<5,>=4.0.1 in /usr/local/lib/python3.7/dist-packages (from gitpython>=2.1.0->mlflow==1.15.0) (4.0.7)\n",
            "Requirement already satisfied: prometheus-client in /usr/local/lib/python3.7/dist-packages (from prometheus-flask-exporter->mlflow==1.15.0) (0.10.1)\n",
            "Requirement already satisfied: Werkzeug>=0.15 in /usr/local/lib/python3.7/dist-packages (from Flask->mlflow==1.15.0) (1.0.1)\n",
            "Requirement already satisfied: Jinja2>=2.10.1 in /usr/local/lib/python3.7/dist-packages (from Flask->mlflow==1.15.0) (2.11.3)\n",
            "Requirement already satisfied: itsdangerous>=0.24 in /usr/local/lib/python3.7/dist-packages (from Flask->mlflow==1.15.0) (1.1.0)\n",
            "Requirement already satisfied: urllib3!=1.25.0,!=1.25.1,<1.26,>=1.21.1 in /usr/local/lib/python3.7/dist-packages (from requests>=2.17.3->mlflow==1.15.0) (1.24.3)\n",
            "Requirement already satisfied: chardet<4,>=3.0.2 in /usr/local/lib/python3.7/dist-packages (from requests>=2.17.3->mlflow==1.15.0) (3.0.4)\n",
            "Requirement already satisfied: certifi>=2017.4.17 in /usr/local/lib/python3.7/dist-packages (from requests>=2.17.3->mlflow==1.15.0) (2020.12.5)\n",
            "Requirement already satisfied: idna<3,>=2.5 in /usr/local/lib/python3.7/dist-packages (from requests>=2.17.3->mlflow==1.15.0) (2.10)\n",
            "Requirement already satisfied: MarkupSafe>=0.9.2 in /usr/local/lib/python3.7/dist-packages (from Mako->alembic<=1.4.1->mlflow==1.15.0) (1.1.1)\n",
            "Requirement already satisfied: typing-extensions>=3.6.4; python_version < \"3.8\" in /usr/local/lib/python3.7/dist-packages (from importlib-metadata; python_version < \"3.8\"->sqlalchemy->mlflow==1.15.0) (3.7.4.3)\n",
            "Requirement already satisfied: zipp>=0.5 in /usr/local/lib/python3.7/dist-packages (from importlib-metadata; python_version < \"3.8\"->sqlalchemy->mlflow==1.15.0) (3.4.1)\n",
            "Requirement already satisfied: smmap<5,>=3.0.1 in /usr/local/lib/python3.7/dist-packages (from gitdb<5,>=4.0.1->gitpython>=2.1.0->mlflow==1.15.0) (4.0.0)\n"
          ],
          "name": "stdout"
        }
      ]
    },
    {
      "cell_type": "code",
      "metadata": {
        "id": "C7h3Kb2zGxel"
      },
      "source": [
        "import numpy as np\n",
        "import pandas as pd\n",
        "import dvc.api\n",
        "import bson\n",
        "import pandas as pd\n",
        "from sklearn.linear_model import LogisticRegression\n",
        "from sklearn.ensemble import RandomForestClassifier\n",
        "from sklearn.dummy import DummyClassifier\n",
        "from sklearn.model_selection import (\n",
        "    StratifiedKFold\n",
        ")\n",
        "import torch\n",
        "from transformers import AutoTokenizer, AutoModel, AutoModelForMaskedLM\n",
        "import transformers as ppb\n",
        "import sklearn.metrics as sk_metrics\n",
        "import mlflow\n",
        "\n",
        "device = torch.device(\"cuda\" if torch.cuda.is_available() else \"cpu\")"
      ],
      "execution_count": 28,
      "outputs": []
    },
    {
      "cell_type": "code",
      "metadata": {
        "id": "DA_zVOFFGxep"
      },
      "source": [
        "TRACKING_SERVER_IP = \"79.116.1.145\"\n",
        "DATA_VERSION=\"data/v2\"\n",
        "METRICS_TO_REPORT = [\"precision_score\", \"recall_score\", \"f1_score\", \"roc_auc_score\", \"average_precision_score\"]\n",
        "MODELS_TO_EXECUTE = [\n",
        "                     DummyClassifier(),\n",
        "                     LogisticRegression(),\n",
        "                     RandomForestClassifier(),\n",
        "]\n",
        "MAX_ALLOWED_TOKENIZED_LEN = 10\n",
        "BERT_NAME = \"bert-base-uncased\" # \"bert-base-multilingual-cased\"\n",
        "LANGS = [\"text_en\"]\n",
        "try:\n",
        "    # With dvc\n",
        "    with dvc.api.open(\n",
        "        \"data/processed/claims.csv\",\n",
        "        repo=\"https://github.com/Gonzalo933/newtral-interview\",\n",
        "        rev=DATA_VERSION,\n",
        "        mode=\"rb\",\n",
        "    ) as fd:\n",
        "        df_raw = pd.read_csv(fd)\n",
        "except:\n",
        "    # No dvc\n",
        "    with open(\"/content/claims.csv\", \"rb\") as fd:\n",
        "        df_raw = pd.read_csv(fd)\n",
        "\n"
      ],
      "execution_count": 29,
      "outputs": []
    },
    {
      "cell_type": "code",
      "metadata": {
        "id": "57mriNbei1Nq"
      },
      "source": [
        "df = pd.DataFrame(columns=[\"text\", \"claim\"])\n",
        "df[\"text\"] = pd.concat([df_raw[col] for col in LANGS])\n",
        "df[\"claim\"] = pd.concat([df_raw[\"claim\"] for _ in LANGS])"
      ],
      "execution_count": 30,
      "outputs": []
    },
    {
      "cell_type": "code",
      "metadata": {
        "colab": {
          "base_uri": "https://localhost:8080/",
          "height": 424
        },
        "id": "HA-DRMVlGxeq",
        "outputId": "42a9db65-6850-4422-be20-51dcc3d45fe4"
      },
      "source": [
        "df"
      ],
      "execution_count": 31,
      "outputs": [
        {
          "output_type": "execute_result",
          "data": {
            "text/html": [
              "<div>\n",
              "<style scoped>\n",
              "    .dataframe tbody tr th:only-of-type {\n",
              "        vertical-align: middle;\n",
              "    }\n",
              "\n",
              "    .dataframe tbody tr th {\n",
              "        vertical-align: top;\n",
              "    }\n",
              "\n",
              "    .dataframe thead th {\n",
              "        text-align: right;\n",
              "    }\n",
              "</style>\n",
              "<table border=\"1\" class=\"dataframe\">\n",
              "  <thead>\n",
              "    <tr style=\"text-align: right;\">\n",
              "      <th></th>\n",
              "      <th>text</th>\n",
              "      <th>claim</th>\n",
              "    </tr>\n",
              "  </thead>\n",
              "  <tbody>\n",
              "    <tr>\n",
              "      <th>0</th>\n",
              "      <td>Thank you.</td>\n",
              "      <td>0</td>\n",
              "    </tr>\n",
              "    <tr>\n",
              "      <th>1</th>\n",
              "      <td>For example, when we are talking about a coun...</td>\n",
              "      <td>0</td>\n",
              "    </tr>\n",
              "    <tr>\n",
              "      <th>2</th>\n",
              "      <td>So as I just think it's like the politics of ...</td>\n",
              "      <td>0</td>\n",
              "    </tr>\n",
              "    <tr>\n",
              "      <th>3</th>\n",
              "      <td>And I think the People's Party has not risen ...</td>\n",
              "      <td>0</td>\n",
              "    </tr>\n",
              "    <tr>\n",
              "      <th>4</th>\n",
              "      <td>The next thing We fly and I leave you with th...</td>\n",
              "      <td>0</td>\n",
              "    </tr>\n",
              "    <tr>\n",
              "      <th>...</th>\n",
              "      <td>...</td>\n",
              "      <td>...</td>\n",
              "    </tr>\n",
              "    <tr>\n",
              "      <th>14347</th>\n",
              "      <td>That agriculture can feed the citizens.</td>\n",
              "      <td>0</td>\n",
              "    </tr>\n",
              "    <tr>\n",
              "      <th>14348</th>\n",
              "      <td>We have to homologate with the other European...</td>\n",
              "      <td>0</td>\n",
              "    </tr>\n",
              "    <tr>\n",
              "      <th>14349</th>\n",
              "      <td>Do you say of the coalition government's init...</td>\n",
              "      <td>0</td>\n",
              "    </tr>\n",
              "    <tr>\n",
              "      <th>14350</th>\n",
              "      <td>We need to sit down the political forces that...</td>\n",
              "      <td>0</td>\n",
              "    </tr>\n",
              "    <tr>\n",
              "      <th>14351</th>\n",
              "      <td>The recovery fund, in my view at European lev...</td>\n",
              "      <td>0</td>\n",
              "    </tr>\n",
              "  </tbody>\n",
              "</table>\n",
              "<p>14352 rows × 2 columns</p>\n",
              "</div>"
            ],
            "text/plain": [
              "                                                    text  claim\n",
              "0                                             Thank you.      0\n",
              "1       For example, when we are talking about a coun...      0\n",
              "2       So as I just think it's like the politics of ...      0\n",
              "3       And I think the People's Party has not risen ...      0\n",
              "4       The next thing We fly and I leave you with th...      0\n",
              "...                                                  ...    ...\n",
              "14347            That agriculture can feed the citizens.      0\n",
              "14348   We have to homologate with the other European...      0\n",
              "14349   Do you say of the coalition government's init...      0\n",
              "14350   We need to sit down the political forces that...      0\n",
              "14351   The recovery fund, in my view at European lev...      0\n",
              "\n",
              "[14352 rows x 2 columns]"
            ]
          },
          "metadata": {
            "tags": []
          },
          "execution_count": 31
        }
      ]
    },
    {
      "cell_type": "code",
      "metadata": {
        "id": "80QnO3WfGxes"
      },
      "source": [
        "tokenizer = AutoTokenizer.from_pretrained(BERT_NAME)\n",
        "model = AutoModel.from_pretrained(BERT_NAME,     num_labels = 2, # The number of output labels--2 for binary classification.\n",
        "    output_attentions = False, # Whether the model returns attentions weights.\n",
        "    output_hidden_states = False, # Whether the model returns all hidden-states.\n",
        "    )\n",
        "model = model.to(device)"
      ],
      "execution_count": 32,
      "outputs": []
    },
    {
      "cell_type": "code",
      "metadata": {
        "id": "0qpXVQYOGxeu"
      },
      "source": [
        "tokenized = df[\"text\"].apply(\n",
        "    (lambda x: tokenizer.encode(x, add_special_tokens=True))\n",
        ")\n",
        "labels = df[\"claim\"]"
      ],
      "execution_count": 33,
      "outputs": []
    },
    {
      "cell_type": "code",
      "metadata": {
        "colab": {
          "base_uri": "https://localhost:8080/"
        },
        "id": "Jqn-vGLlGxew",
        "outputId": "da5f8f9f-d614-4a18-c69a-40e431e45519"
      },
      "source": [
        "tokenized"
      ],
      "execution_count": 34,
      "outputs": [
        {
          "output_type": "execute_result",
          "data": {
            "text/plain": [
              "0                             [101, 4067, 2017, 1012, 102]\n",
              "1        [101, 2005, 2742, 1010, 2043, 2057, 2024, 3331...\n",
              "2        [101, 2061, 2004, 1045, 2074, 2228, 2009, 1005...\n",
              "3        [101, 1998, 1045, 2228, 1996, 2111, 1005, 1055...\n",
              "4        [101, 1996, 2279, 2518, 2057, 4875, 1998, 1045...\n",
              "                               ...                        \n",
              "14347    [101, 2008, 5237, 2064, 5438, 1996, 4480, 1012...\n",
              "14348    [101, 2057, 2031, 2000, 24004, 21197, 3686, 20...\n",
              "14349    [101, 2079, 2017, 2360, 1997, 1996, 6056, 2231...\n",
              "14350    [101, 2057, 2342, 2000, 4133, 2091, 1996, 2576...\n",
              "14351    [101, 1996, 7233, 4636, 1010, 1999, 2026, 3193...\n",
              "Name: text, Length: 14352, dtype: object"
            ]
          },
          "metadata": {
            "tags": []
          },
          "execution_count": 34
        }
      ]
    },
    {
      "cell_type": "code",
      "metadata": {
        "colab": {
          "base_uri": "https://localhost:8080/"
        },
        "id": "WrVRFrNEGxew",
        "outputId": "5d8f5340-006e-4581-a43f-6f4bce6c3511"
      },
      "source": [
        "max_len = 0\n",
        "for i in tokenized.values:\n",
        "    if len(i) > max_len:\n",
        "        max_len = len(i)\n",
        "\n",
        "padded = np.array([i + [0] * (max_len - len(i)) for i in tokenized.values])\n",
        "print(padded.shape)\n",
        "print(max_len)"
      ],
      "execution_count": 35,
      "outputs": [
        {
          "output_type": "stream",
          "text": [
            "(14352, 150)\n",
            "150\n"
          ],
          "name": "stdout"
        }
      ]
    },
    {
      "cell_type": "code",
      "metadata": {
        "colab": {
          "base_uri": "https://localhost:8080/"
        },
        "id": "HikZtq-tQW7Y",
        "outputId": "120439d7-59d0-45ea-9a4b-ba81ce146fd5"
      },
      "source": [
        "padded = padded[:, :MAX_ALLOWED_TOKENIZED_LEN]\n",
        "padded.shape"
      ],
      "execution_count": 36,
      "outputs": [
        {
          "output_type": "execute_result",
          "data": {
            "text/plain": [
              "(14352, 10)"
            ]
          },
          "metadata": {
            "tags": []
          },
          "execution_count": 36
        }
      ]
    },
    {
      "cell_type": "code",
      "metadata": {
        "id": "5XDxUZbLo4gc",
        "outputId": "16ac1d0e-515c-4c88-85b3-f77097b51273",
        "colab": {
          "base_uri": "https://localhost:8080/"
        }
      },
      "source": [
        "padded"
      ],
      "execution_count": 37,
      "outputs": [
        {
          "output_type": "execute_result",
          "data": {
            "text/plain": [
              "array([[ 101, 4067, 2017, ...,    0,    0,    0],\n",
              "       [ 101, 2005, 2742, ..., 3331, 2055, 1037],\n",
              "       [ 101, 2061, 2004, ..., 1005, 1055, 2066],\n",
              "       ...,\n",
              "       [ 101, 2079, 2017, ..., 2231, 1005, 1055],\n",
              "       [ 101, 2057, 2342, ..., 2576, 2749, 2008],\n",
              "       [ 101, 1996, 7233, ..., 3193, 2012, 2647]])"
            ]
          },
          "metadata": {
            "tags": []
          },
          "execution_count": 37
        }
      ]
    },
    {
      "cell_type": "code",
      "metadata": {
        "colab": {
          "base_uri": "https://localhost:8080/"
        },
        "id": "s5yLzWK0Gxex",
        "outputId": "ff47a2e7-a716-4e6e-d85c-1e714fe9b156"
      },
      "source": [
        "attention_mask = np.where(padded != 0, 1, 0)\n",
        "attention_mask.shape"
      ],
      "execution_count": 38,
      "outputs": [
        {
          "output_type": "execute_result",
          "data": {
            "text/plain": [
              "(14352, 10)"
            ]
          },
          "metadata": {
            "tags": []
          },
          "execution_count": 38
        }
      ]
    },
    {
      "cell_type": "code",
      "metadata": {
        "id": "oAkMwaEzo3xz",
        "outputId": "3ad6c5d2-bdfc-46b9-bcf1-61af6e256799",
        "colab": {
          "base_uri": "https://localhost:8080/"
        }
      },
      "source": [
        "attention_mask"
      ],
      "execution_count": 39,
      "outputs": [
        {
          "output_type": "execute_result",
          "data": {
            "text/plain": [
              "array([[1, 1, 1, ..., 0, 0, 0],\n",
              "       [1, 1, 1, ..., 1, 1, 1],\n",
              "       [1, 1, 1, ..., 1, 1, 1],\n",
              "       ...,\n",
              "       [1, 1, 1, ..., 1, 1, 1],\n",
              "       [1, 1, 1, ..., 1, 1, 1],\n",
              "       [1, 1, 1, ..., 1, 1, 1]])"
            ]
          },
          "metadata": {
            "tags": []
          },
          "execution_count": 39
        }
      ]
    },
    {
      "cell_type": "code",
      "metadata": {
        "id": "rqHwrTSjtUDr",
        "outputId": "ef1f2d15-89e1-40f0-8469-7925f6134784",
        "colab": {
          "base_uri": "https://localhost:8080/"
        }
      },
      "source": [
        "padded.shape"
      ],
      "execution_count": 40,
      "outputs": [
        {
          "output_type": "execute_result",
          "data": {
            "text/plain": [
              "(14352, 10)"
            ]
          },
          "metadata": {
            "tags": []
          },
          "execution_count": 40
        }
      ]
    },
    {
      "cell_type": "code",
      "metadata": {
        "id": "GPsPyVgztdp0",
        "outputId": "e07d2f4b-9567-4f76-87a0-1b6a85841445",
        "colab": {
          "base_uri": "https://localhost:8080/"
        }
      },
      "source": [
        "attention_mask.shape"
      ],
      "execution_count": 41,
      "outputs": [
        {
          "output_type": "execute_result",
          "data": {
            "text/plain": [
              "(14352, 10)"
            ]
          },
          "metadata": {
            "tags": []
          },
          "execution_count": 41
        }
      ]
    },
    {
      "cell_type": "code",
      "metadata": {
        "id": "Ta4_nfDRtu3W"
      },
      "source": [
        "input_ids = torch.tensor(padded)\n",
        "attention_mask = torch.tensor(attention_mask)\n",
        "labels = torch.tensor(labels)"
      ],
      "execution_count": 42,
      "outputs": []
    },
    {
      "cell_type": "code",
      "metadata": {
        "id": "1rerlpAtGxey",
        "outputId": "ae62d6e8-c22c-4d4c-eae2-7a7988e9857e",
        "colab": {
          "base_uri": "https://localhost:8080/",
          "height": 306
        }
      },
      "source": [
        "from torch.utils.data import TensorDataset, DataLoader, RandomSampler, SequentialSampler\n",
        "from transformers import AdamW, get_linear_schedule_with_warmup\n",
        "batch_size = 32\n",
        "# wrap tensors\n",
        "train_data = TensorDataset(input_ids, attention_mask, labels)\n",
        "train_sampler = RandomSampler(train_data)\n",
        "train_dataloader = DataLoader(train_data, sampler=train_sampler, batch_size=batch_size)\n",
        "\n",
        "epochs = 4\n",
        "\n",
        "# Total number of training steps is [number of batches] x [number of epochs]. \n",
        "# (Note that this is not the same as the number of training samples).\n",
        "total_steps = len(train_dataloader) * epochs\n",
        "\n",
        "optimizer = AdamW(model.parameters(),\n",
        "                  lr = 2e-5, # args.learning_rate - default is 5e-5, our notebook had 2e-5\n",
        "                  eps = 1e-8 # args.adam_epsilon  - default is 1e-8.\n",
        "                )\n",
        "\n",
        "scheduler = get_linear_schedule_with_warmup(optimizer, \n",
        "                                            num_warmup_steps = 0, # Default value in run_glue.py\n",
        "                                            num_training_steps = total_steps)\n",
        "\n",
        "\n",
        "for epoch_i in range(0, epochs):\n",
        "    print(f\"Epoch {epoch_i}\")\n",
        "    model.train()\n",
        "    for step, batch in enumerate(train_dataloader):\n",
        "        batch_input_ids = batch[0].to(device)\n",
        "        batch_input_mask = batch[1].to(device)\n",
        "        batch_labels = batch[2].to(device)\n",
        "        model.zero_grad() \n",
        "        \n",
        "        result = model(batch_input_ids, \n",
        "                            token_type_ids=None, \n",
        "                            attention_mask=batch_input_mask, \n",
        "                            return_dict=True)\n",
        "        result.loss.backward()\n",
        "        torch.nn.utils.clip_grad_norm_(model.parameters(), 1.0)\n",
        "        optimizer.step()\n",
        "        scheduler.step()\n",
        "\n",
        "model.eval()\n",
        "last_hidden_states = model(input_ids.to(device), attention_mask=attention_mask.to(device))"
      ],
      "execution_count": 45,
      "outputs": [
        {
          "output_type": "stream",
          "text": [
            "Epoch 0\n",
            "> <ipython-input-45-57c5166e95f4>(35)<module>()\n",
            "-> result = model(batch_input_ids,\n",
            "(Pdb) c\n"
          ],
          "name": "stdout"
        },
        {
          "output_type": "error",
          "ename": "AttributeError",
          "evalue": "ignored",
          "traceback": [
            "\u001b[0;31m---------------------------------------------------------------------------\u001b[0m",
            "\u001b[0;31mAttributeError\u001b[0m                            Traceback (most recent call last)",
            "\u001b[0;32m<ipython-input-45-57c5166e95f4>\u001b[0m in \u001b[0;36m<module>\u001b[0;34m()\u001b[0m\n\u001b[1;32m     33\u001b[0m         \u001b[0;32mimport\u001b[0m \u001b[0mpdb\u001b[0m\u001b[0;34m;\u001b[0m \u001b[0mpdb\u001b[0m\u001b[0;34m.\u001b[0m\u001b[0mset_trace\u001b[0m\u001b[0;34m(\u001b[0m\u001b[0;34m)\u001b[0m\u001b[0;34m\u001b[0m\u001b[0;34m\u001b[0m\u001b[0m\n\u001b[1;32m     34\u001b[0m \u001b[0;34m\u001b[0m\u001b[0m\n\u001b[0;32m---> 35\u001b[0;31m         result = model(batch_input_ids, \n\u001b[0m\u001b[1;32m     36\u001b[0m                             \u001b[0mtoken_type_ids\u001b[0m\u001b[0;34m=\u001b[0m\u001b[0;32mNone\u001b[0m\u001b[0;34m,\u001b[0m\u001b[0;34m\u001b[0m\u001b[0;34m\u001b[0m\u001b[0m\n\u001b[1;32m     37\u001b[0m                             \u001b[0mattention_mask\u001b[0m\u001b[0;34m=\u001b[0m\u001b[0mbatch_input_mask\u001b[0m\u001b[0;34m,\u001b[0m\u001b[0;34m\u001b[0m\u001b[0;34m\u001b[0m\u001b[0m\n",
            "\u001b[0;31mAttributeError\u001b[0m: 'BaseModelOutputWithPoolingAndCrossAttentions' object has no attribute 'loss'"
          ]
        }
      ]
    },
    {
      "cell_type": "code",
      "metadata": {
        "id": "4VdnK74US3DM"
      },
      "source": [
        "X = last_hidden_states[0][:, 0, :].numpy()"
      ],
      "execution_count": null,
      "outputs": []
    },
    {
      "cell_type": "code",
      "metadata": {
        "id": "L1-2Mz2n4KiH"
      },
      "source": [
        "def calculate_metrics_both_classes(metric_name, sk_metrics, y_true, y_pred):\n",
        "    negative_class_metric_value = getattr(sk_metrics, metric_name)(\n",
        "        y_true, y_pred, pos_label=0\n",
        "    )\n",
        "    positive_class_metric_value = getattr(sk_metrics, metric_name)(\n",
        "        y_true, y_pred, pos_label=1\n",
        "    )\n",
        "    return {\n",
        "        f\"{metric_name}_0\": negative_class_metric_value,\n",
        "        f\"{metric_name}_1\": positive_class_metric_value,\n",
        "    }\n",
        "\n",
        "\n",
        "def calculate_metric_one_class(metric_name, sk_metrics, y_true, y_pred):\n",
        "    return getattr(sk_metrics, metric_name)(y_true, y_pred)\n",
        "\n",
        "\n",
        "def calculate_metrics(df_metrics, metrics_to_report, sk_metrics, y_true, y_pred, y_pred_proba):\n",
        "    metrics = {}\n",
        "    for metric_name in metrics_to_report:\n",
        "        if \"The class to report\" in getattr(sk_metrics, metric_name).__doc__:\n",
        "            # The metrics can be calculated for both classes\n",
        "            metrics.update(calculate_metrics_both_classes(metric_name, sk_metrics, y_true, y_pred))\n",
        "        else:\n",
        "            metrics.update({metric_name: calculate_metric_one_class(metric_name, sk_metrics, y_true, y_pred)})\n",
        "    return df_metrics.append(pd.Series(metrics), ignore_index=True)\n",
        "\n",
        "def run_experiment(skf, clf):\n",
        "    df_metrics = pd.DataFrame()\n",
        "    for train_index, test_index in skf.split(X, labels):\n",
        "        clf.fit(X[train_index], labels[train_index])\n",
        "\n",
        "        y_pred = clf.predict(X[test_index])\n",
        "        y_true = labels[test_index]\n",
        "        y_pred_proba = clf.predict_proba(X[test_index])\n",
        "    \n",
        "        df_metrics = calculate_metrics(df_metrics, METRICS_TO_REPORT, sk_metrics, y_true, y_pred, y_pred_proba)\n",
        "    return df_metrics"
      ],
      "execution_count": null,
      "outputs": []
    },
    {
      "cell_type": "code",
      "metadata": {
        "id": "U8aB62BpXG8R"
      },
      "source": [
        "mlflow.set_tracking_uri(f\"http://{TRACKING_SERVER_IP}:5000\")\n",
        "mlflow.set_experiment(DATA_VERSION)\n",
        "\n",
        "skf = StratifiedKFold(n_splits=3)\n",
        "clf = LogisticRegression()\n",
        "for clf in MODELS_TO_EXECUTE:\n",
        "    with mlflow.start_run(run_name=clf.__class__.__name__):\n",
        "        mlflow.log_param(\"model\", f\"{clf.__module__}.{clf.__class__.__name__}\")\n",
        "        mlflow.log_param(\"model_params\", clf.get_params())\n",
        "        mlflow.log_param(\"MAX_ALLOWED_TOKENIZED_LEN\", MAX_ALLOWED_TOKENIZED_LEN)\n",
        "        mlflow.log_param(\"BERT_NAME\", BERT_NAME)\n",
        "        mlflow.log_param(\"LANGS\", LANGS)\n",
        "        \n",
        "        df_metrics = run_experiment(skf, clf)\n",
        "        # Report averages to mlflow\n",
        "        print(df_metrics)\n",
        "        for metric, value in df_metrics.mean().to_dict().items():\n",
        "            mlflow.log_metric(metric, value)"
      ],
      "execution_count": null,
      "outputs": []
    },
    {
      "cell_type": "code",
      "metadata": {
        "id": "y59NLxLjHCEo"
      },
      "source": [
        ""
      ],
      "execution_count": null,
      "outputs": []
    }
  ]
}