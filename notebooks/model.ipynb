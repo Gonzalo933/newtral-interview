{
  "nbformat": 4,
  "nbformat_minor": 0,
  "metadata": {
    "colab": {
      "name": "model.ipynb",
      "provenance": [],
      "collapsed_sections": [],
      "toc_visible": true,
      "include_colab_link": true
    },
    "kernelspec": {
      "display_name": "Python 3",
      "language": "python",
      "name": "python3"
    },
    "language_info": {
      "codemirror_mode": {
        "name": "ipython",
        "version": 3
      },
      "file_extension": ".py",
      "mimetype": "text/x-python",
      "name": "python",
      "nbconvert_exporter": "python",
      "pygments_lexer": "ipython3",
      "version": "3.7.3"
    }
  },
  "cells": [
    {
      "cell_type": "markdown",
      "metadata": {
        "id": "view-in-github",
        "colab_type": "text"
      },
      "source": [
        "<a href=\"https://colab.research.google.com/github/Gonzalo933/newtral-interview/blob/feature%2Fmodel/notebooks/model.ipynb\" target=\"_parent\"><img src=\"https://colab.research.google.com/assets/colab-badge.svg\" alt=\"Open In Colab\"/></a>"
      ]
    },
    {
      "cell_type": "code",
      "metadata": {
        "id": "45KfrxEdHYo0"
      },
      "source": [
        "!pip install dvc\n",
        "!pip install transformers\n",
        "!pip install mlflow==1.15.0"
      ],
      "execution_count": null,
      "outputs": []
    },
    {
      "cell_type": "code",
      "metadata": {
        "id": "C7h3Kb2zGxel"
      },
      "source": [
        "import numpy as np\n",
        "import pandas as pd\n",
        "import dvc.api\n",
        "import bson\n",
        "import pandas as pd\n",
        "from sklearn.linear_model import LogisticRegression\n",
        "from sklearn.ensemble import RandomForestClassifier\n",
        "from sklearn.dummy import DummyClassifier\n",
        "from sklearn.model_selection import (\n",
        "    StratifiedKFold\n",
        ")\n",
        "import torch\n",
        "import transformers as ppb\n",
        "import sklearn.metrics as sk_metrics\n",
        "import mlflow"
      ],
      "execution_count": 2,
      "outputs": []
    },
    {
      "cell_type": "code",
      "metadata": {
        "id": "DA_zVOFFGxep"
      },
      "source": [
        "TRACKING_SERVER_IP = \"86.127.251.86\"\n",
        "DATA_VERSION=\"data/v2\"\n",
        "METRICS_TO_REPORT = [\"precision_score\", \"recall_score\", \"f1_score\", \"roc_auc_score\", \"average_precision_score\"]\n",
        "MODELS_TO_EXECUTE = [\n",
        "                     DummyClassifier(),\n",
        "                     LogisticRegression(),\n",
        "                     RandomForestClassifier(),\n",
        "]\n",
        "MAX_ALLOWED_TOKENIZED_LEN = 10\n",
        "try:\n",
        "    with dvc.api.open(\n",
        "        \"data/processed/claims.csv\",\n",
        "        repo=\"https://github.com/Gonzalo933/newtral-interview\",\n",
        "        rev=DATA_VERSION,\n",
        "        mode=\"rb\",\n",
        "    ) as fd:\n",
        "        #data = bson.decode_all(fd.read())\n",
        "        #df = pd.DataFrame(data)\n",
        "        df = pd.read_csv(fd)\n",
        "except:\n",
        "    with open(\"/content/claims.csv\", \"rb\") as fd:\n",
        "        #data = bson.decode_all(fd.read())\n",
        "        #df = pd.DataFrame(data)\n",
        "        df = pd.read_csv(fd)\n",
        "\n"
      ],
      "execution_count": 3,
      "outputs": []
    },
    {
      "cell_type": "code",
      "metadata": {
        "colab": {
          "base_uri": "https://localhost:8080/",
          "height": 424
        },
        "id": "HA-DRMVlGxeq",
        "outputId": "524ce044-8927-4433-f7c7-f613eaf69687"
      },
      "source": [
        "df"
      ],
      "execution_count": 4,
      "outputs": [
        {
          "output_type": "execute_result",
          "data": {
            "text/html": [
              "<div>\n",
              "<style scoped>\n",
              "    .dataframe tbody tr th:only-of-type {\n",
              "        vertical-align: middle;\n",
              "    }\n",
              "\n",
              "    .dataframe tbody tr th {\n",
              "        vertical-align: top;\n",
              "    }\n",
              "\n",
              "    .dataframe thead th {\n",
              "        text-align: right;\n",
              "    }\n",
              "</style>\n",
              "<table border=\"1\" class=\"dataframe\">\n",
              "  <thead>\n",
              "    <tr style=\"text-align: right;\">\n",
              "      <th></th>\n",
              "      <th>_id</th>\n",
              "      <th>text_es</th>\n",
              "      <th>text_en</th>\n",
              "      <th>text_fr</th>\n",
              "      <th>claim</th>\n",
              "    </tr>\n",
              "  </thead>\n",
              "  <tbody>\n",
              "    <tr>\n",
              "      <th>0</th>\n",
              "      <td>5f80940cf95f926ca81a3751</td>\n",
              "      <td>Gracias.</td>\n",
              "      <td>Thank you.</td>\n",
              "      <td>Merci.</td>\n",
              "      <td>0</td>\n",
              "    </tr>\n",
              "    <tr>\n",
              "      <th>1</th>\n",
              "      <td>5f80940cf95f926ca81a3752</td>\n",
              "      <td>Por ejemplo, cuando estamos hablando de un pa...</td>\n",
              "      <td>For example, when we are talking about a coun...</td>\n",
              "      <td>Par exemple, quand on parle d’un pays qui doi...</td>\n",
              "      <td>0</td>\n",
              "    </tr>\n",
              "    <tr>\n",
              "      <th>2</th>\n",
              "      <td>5f80940cf95f926ca81a3753</td>\n",
              "      <td>Entonces como solo creo que es como la políti...</td>\n",
              "      <td>So as I just think it's like the politics of ...</td>\n",
              "      <td>Donc, comme je pense que c’est comme la polit...</td>\n",
              "      <td>0</td>\n",
              "    </tr>\n",
              "    <tr>\n",
              "      <th>3</th>\n",
              "      <td>5f80940cf95f926ca81a3754</td>\n",
              "      <td>Y pienso que el Partido Popular no ha estado ...</td>\n",
              "      <td>And I think the People's Party has not risen ...</td>\n",
              "      <td>Et je pense que le Parti populaire n’a pas ét...</td>\n",
              "      <td>0</td>\n",
              "    </tr>\n",
              "    <tr>\n",
              "      <th>4</th>\n",
              "      <td>5f80940cf95f926ca81a3755</td>\n",
              "      <td>Lo siguiente Nos vamos ya volando y les dejo ...</td>\n",
              "      <td>The next thing We fly and I leave you with th...</td>\n",
              "      <td>La prochaine chose que nous volons et je vous...</td>\n",
              "      <td>0</td>\n",
              "    </tr>\n",
              "    <tr>\n",
              "      <th>...</th>\n",
              "      <td>...</td>\n",
              "      <td>...</td>\n",
              "      <td>...</td>\n",
              "      <td>...</td>\n",
              "      <td>...</td>\n",
              "    </tr>\n",
              "    <tr>\n",
              "      <th>14347</th>\n",
              "      <td>5f80940df95f926ca81a6f5d</td>\n",
              "      <td>Que la agricultura pueda alimentar a los ciud...</td>\n",
              "      <td>That agriculture can feed the citizens.</td>\n",
              "      <td>Que l’agriculture peut nourrir les citoyens.</td>\n",
              "      <td>0</td>\n",
              "    </tr>\n",
              "    <tr>\n",
              "      <th>14348</th>\n",
              "      <td>5f80940df95f926ca81a6f5e</td>\n",
              "      <td>Hay que homologar con el resto de países euro...</td>\n",
              "      <td>We have to homologate with the other European...</td>\n",
              "      <td>Nous devons nous homologuer avec les autres p...</td>\n",
              "      <td>0</td>\n",
              "    </tr>\n",
              "    <tr>\n",
              "      <th>14349</th>\n",
              "      <td>5f80940df95f926ca81a6f5f</td>\n",
              "      <td>Dicen ustedes del programa inicial del gobier...</td>\n",
              "      <td>Do you say of the coalition government's init...</td>\n",
              "      <td>Dites-vous du programme initial du gouverneme...</td>\n",
              "      <td>0</td>\n",
              "    </tr>\n",
              "    <tr>\n",
              "      <th>14350</th>\n",
              "      <td>5f80940df95f926ca81a6f60</td>\n",
              "      <td>Hace falta sentarse las fuerzas políticas que...</td>\n",
              "      <td>We need to sit down the political forces that...</td>\n",
              "      <td>Nous devons asseoir les forces politiques que...</td>\n",
              "      <td>0</td>\n",
              "    </tr>\n",
              "    <tr>\n",
              "      <th>14351</th>\n",
              "      <td>5f80940df95f926ca81a6f61</td>\n",
              "      <td>El fondo de recuperación, a mi juicio a nivel...</td>\n",
              "      <td>The recovery fund, in my view at European lev...</td>\n",
              "      <td>Le fonds de relance, à mon avis au niveau eur...</td>\n",
              "      <td>0</td>\n",
              "    </tr>\n",
              "  </tbody>\n",
              "</table>\n",
              "<p>14352 rows × 5 columns</p>\n",
              "</div>"
            ],
            "text/plain": [
              "                            _id  ... claim\n",
              "0      5f80940cf95f926ca81a3751  ...     0\n",
              "1      5f80940cf95f926ca81a3752  ...     0\n",
              "2      5f80940cf95f926ca81a3753  ...     0\n",
              "3      5f80940cf95f926ca81a3754  ...     0\n",
              "4      5f80940cf95f926ca81a3755  ...     0\n",
              "...                         ...  ...   ...\n",
              "14347  5f80940df95f926ca81a6f5d  ...     0\n",
              "14348  5f80940df95f926ca81a6f5e  ...     0\n",
              "14349  5f80940df95f926ca81a6f5f  ...     0\n",
              "14350  5f80940df95f926ca81a6f60  ...     0\n",
              "14351  5f80940df95f926ca81a6f61  ...     0\n",
              "\n",
              "[14352 rows x 5 columns]"
            ]
          },
          "metadata": {
            "tags": []
          },
          "execution_count": 4
        }
      ]
    },
    {
      "cell_type": "code",
      "metadata": {
        "id": "80QnO3WfGxes"
      },
      "source": [
        "# For DistilBERT:\n",
        "model_class, tokenizer_class, pretrained_weights = (\n",
        "    ppb.DistilBertModel,\n",
        "    ppb.DistilBertTokenizer,\n",
        "    \"distilbert-base-uncased\",\n",
        ")\n",
        "\n",
        "## Want BERT instead of distilBERT? Uncomment the following line:\n",
        "# model_class, tokenizer_class, pretrained_weights = (ppb.BertModel, ppb.BertTokenizer, 'bert-base-uncased')\n",
        "\n",
        "# Load pretrained model/tokenizer\n",
        "tokenizer = tokenizer_class.from_pretrained(pretrained_weights)\n",
        "model = model_class.from_pretrained(pretrained_weights)"
      ],
      "execution_count": 5,
      "outputs": []
    },
    {
      "cell_type": "code",
      "metadata": {
        "id": "0qpXVQYOGxeu"
      },
      "source": [
        "tokenized = df[\"text_en\"].apply(\n",
        "    (lambda x: tokenizer.encode(x, add_special_tokens=True))\n",
        ")\n",
        "labels = df[\"claim\"]"
      ],
      "execution_count": 6,
      "outputs": []
    },
    {
      "cell_type": "code",
      "metadata": {
        "colab": {
          "base_uri": "https://localhost:8080/"
        },
        "id": "Jqn-vGLlGxew",
        "outputId": "7ca61262-d6c2-40b9-e399-0612e60b99fd"
      },
      "source": [
        "tokenized"
      ],
      "execution_count": 7,
      "outputs": [
        {
          "output_type": "execute_result",
          "data": {
            "text/plain": [
              "0                             [101, 4067, 2017, 1012, 102]\n",
              "1        [101, 2005, 2742, 1010, 2043, 2057, 2024, 3331...\n",
              "2        [101, 2061, 2004, 1045, 2074, 2228, 2009, 1005...\n",
              "3        [101, 1998, 1045, 2228, 1996, 2111, 1005, 1055...\n",
              "4        [101, 1996, 2279, 2518, 2057, 4875, 1998, 1045...\n",
              "                               ...                        \n",
              "14347    [101, 2008, 5237, 2064, 5438, 1996, 4480, 1012...\n",
              "14348    [101, 2057, 2031, 2000, 24004, 21197, 3686, 20...\n",
              "14349    [101, 2079, 2017, 2360, 1997, 1996, 6056, 2231...\n",
              "14350    [101, 2057, 2342, 2000, 4133, 2091, 1996, 2576...\n",
              "14351    [101, 1996, 7233, 4636, 1010, 1999, 2026, 3193...\n",
              "Name: text_en, Length: 14352, dtype: object"
            ]
          },
          "metadata": {
            "tags": []
          },
          "execution_count": 7
        }
      ]
    },
    {
      "cell_type": "code",
      "metadata": {
        "colab": {
          "base_uri": "https://localhost:8080/"
        },
        "id": "WrVRFrNEGxew",
        "outputId": "5e3ba03d-0459-47f9-ed4e-f829d9108ea7"
      },
      "source": [
        "max_len = 0\n",
        "for i in tokenized.values:\n",
        "    if len(i) > max_len:\n",
        "        max_len = len(i)\n",
        "\n",
        "padded = np.array([i + [0] * (max_len - len(i)) for i in tokenized.values])\n",
        "padded.shape"
      ],
      "execution_count": 8,
      "outputs": [
        {
          "output_type": "execute_result",
          "data": {
            "text/plain": [
              "(14352, 150)"
            ]
          },
          "metadata": {
            "tags": []
          },
          "execution_count": 8
        }
      ]
    },
    {
      "cell_type": "code",
      "metadata": {
        "colab": {
          "base_uri": "https://localhost:8080/"
        },
        "id": "HikZtq-tQW7Y",
        "outputId": "1e1b5c51-b109-47d6-fe7f-c5fda550c670"
      },
      "source": [
        "padded = padded[:, :MAX_ALLOWED_TOKENIZED_LEN]\n",
        "padded.shape"
      ],
      "execution_count": 9,
      "outputs": [
        {
          "output_type": "execute_result",
          "data": {
            "text/plain": [
              "(14352, 10)"
            ]
          },
          "metadata": {
            "tags": []
          },
          "execution_count": 9
        }
      ]
    },
    {
      "cell_type": "code",
      "metadata": {
        "colab": {
          "base_uri": "https://localhost:8080/"
        },
        "id": "s5yLzWK0Gxex",
        "outputId": "25f3b8a1-7305-4fb7-c962-28dabc500d97"
      },
      "source": [
        "attention_mask = np.where(padded != 0, 1, 0)\n",
        "attention_mask.shape"
      ],
      "execution_count": 10,
      "outputs": [
        {
          "output_type": "execute_result",
          "data": {
            "text/plain": [
              "(14352, 10)"
            ]
          },
          "metadata": {
            "tags": []
          },
          "execution_count": 10
        }
      ]
    },
    {
      "cell_type": "code",
      "metadata": {
        "id": "1rerlpAtGxey"
      },
      "source": [
        "input_ids = torch.tensor(padded)\n",
        "attention_mask = torch.tensor(attention_mask)\n",
        "\n",
        "with torch.no_grad():\n",
        "    last_hidden_states = model(input_ids, attention_mask=attention_mask)"
      ],
      "execution_count": 11,
      "outputs": []
    },
    {
      "cell_type": "code",
      "metadata": {
        "id": "4VdnK74US3DM"
      },
      "source": [
        "X = last_hidden_states[0][:, 0, :].numpy()"
      ],
      "execution_count": 12,
      "outputs": []
    },
    {
      "cell_type": "code",
      "metadata": {
        "id": "L1-2Mz2n4KiH"
      },
      "source": [
        "def calculate_metrics_both_classes(metric_name, sk_metrics, y_true, y_pred):\n",
        "    negative_class_metric_value = getattr(sk_metrics, metric_name)(\n",
        "        y_true, y_pred, pos_label=0\n",
        "    )\n",
        "    positive_class_metric_value = getattr(sk_metrics, metric_name)(\n",
        "        y_true, y_pred, pos_label=1\n",
        "    )\n",
        "    return {\n",
        "        f\"{metric_name}_0\": negative_class_metric_value,\n",
        "        f\"{metric_name}_1\": positive_class_metric_value,\n",
        "    }\n",
        "\n",
        "\n",
        "def calculate_metric_one_class(metric_name, sk_metrics, y_true, y_pred):\n",
        "    return getattr(sk_metrics, metric_name)(y_true, y_pred)\n",
        "\n",
        "\n",
        "def calculate_metrics(df_metrics, metrics_to_report, sk_metrics, y_true, y_pred, y_pred_proba):\n",
        "    metrics = {}\n",
        "    for metric_name in metrics_to_report:\n",
        "        if \"The class to report\" in getattr(sk_metrics, metric_name).__doc__:\n",
        "            # The metrics can be calculated for both classes\n",
        "            metrics.update(calculate_metrics_both_classes(metric_name, sk_metrics, y_true, y_pred))\n",
        "        else:\n",
        "            metrics.update({metric_name: calculate_metric_one_class(metric_name, sk_metrics, y_true, y_pred)})\n",
        "    return df_metrics.append(pd.Series(metrics), ignore_index=True)\n",
        "\n",
        "def run_experiment(skf, clf):\n",
        "    df_metrics = pd.DataFrame()\n",
        "    for train_index, test_index in skf.split(X, labels):\n",
        "        clf.fit(X[train_index], labels[train_index])\n",
        "\n",
        "        y_pred = clf.predict(X[test_index])\n",
        "        y_true = labels[test_index]\n",
        "        y_pred_proba = clf.predict_proba(X[test_index])\n",
        "    \n",
        "        df_metrics = calculate_metrics(df_metrics, METRICS_TO_REPORT, sk_metrics, y_true, y_pred, y_pred_proba)\n",
        "    return df_metrics"
      ],
      "execution_count": 13,
      "outputs": []
    },
    {
      "cell_type": "code",
      "metadata": {
        "colab": {
          "base_uri": "https://localhost:8080/"
        },
        "id": "U8aB62BpXG8R",
        "outputId": "05fde137-b839-4a8f-de7c-d6d82284dbf6"
      },
      "source": [
        "mlflow.set_tracking_uri(f\"http://{TRACKING_SERVER_IP}:5000\")\n",
        "mlflow.set_experiment(DATA_VERSION)\n",
        "\n",
        "skf = StratifiedKFold(n_splits=3)\n",
        "clf = LogisticRegression()\n",
        "for clf in MODELS_TO_EXECUTE:\n",
        "    with mlflow.start_run(run_name=clf.__class__.__name__):\n",
        "        mlflow.log_param(\"model\", f\"{clf.__module__}.{clf.__class__.__name__}\")\n",
        "        mlflow.log_param(\"model_params\", clf.get_params())\n",
        "        mlflow.log_param(\"MAX_ALLOWED_TOKENIZED_LEN\", MAX_ALLOWED_TOKENIZED_LEN)\n",
        "        \n",
        "        df_metrics = run_experiment(skf, clf)\n",
        "        # Report averages to mlflow\n",
        "        print(df_metrics)\n",
        "        for metric, value in df_metrics.mean().to_dict().items():\n",
        "            mlflow.log_metric(metric, value)"
      ],
      "execution_count": 15,
      "outputs": [
        {
          "output_type": "stream",
          "text": [
            "INFO: 'data/v2' does not exist. Creating a new experiment\n"
          ],
          "name": "stdout"
        },
        {
          "output_type": "stream",
          "text": [
            "/usr/local/lib/python3.7/dist-packages/sklearn/dummy.py:132: FutureWarning: The default value of strategy will change from stratified to prior in 0.24.\n",
            "  \"stratified to prior in 0.24.\", FutureWarning)\n",
            "/usr/local/lib/python3.7/dist-packages/sklearn/dummy.py:132: FutureWarning: The default value of strategy will change from stratified to prior in 0.24.\n",
            "  \"stratified to prior in 0.24.\", FutureWarning)\n",
            "/usr/local/lib/python3.7/dist-packages/sklearn/dummy.py:132: FutureWarning: The default value of strategy will change from stratified to prior in 0.24.\n",
            "  \"stratified to prior in 0.24.\", FutureWarning)\n"
          ],
          "name": "stderr"
        },
        {
          "output_type": "stream",
          "text": [
            "   average_precision_score  f1_score_0  ...  recall_score_1  roc_auc_score\n",
            "0                 0.073378    0.923564  ...        0.067797       0.494846\n",
            "1                 0.073696    0.924658  ...        0.067606       0.495871\n",
            "2                 0.073843    0.924641  ...        0.070423       0.497167\n",
            "\n",
            "[3 rows x 8 columns]\n"
          ],
          "name": "stdout"
        },
        {
          "output_type": "stream",
          "text": [
            "/usr/local/lib/python3.7/dist-packages/sklearn/linear_model/_logistic.py:940: ConvergenceWarning: lbfgs failed to converge (status=1):\n",
            "STOP: TOTAL NO. of ITERATIONS REACHED LIMIT.\n",
            "\n",
            "Increase the number of iterations (max_iter) or scale the data as shown in:\n",
            "    https://scikit-learn.org/stable/modules/preprocessing.html\n",
            "Please also refer to the documentation for alternative solver options:\n",
            "    https://scikit-learn.org/stable/modules/linear_model.html#logistic-regression\n",
            "  extra_warning_msg=_LOGISTIC_SOLVER_CONVERGENCE_MSG)\n",
            "/usr/local/lib/python3.7/dist-packages/sklearn/linear_model/_logistic.py:940: ConvergenceWarning: lbfgs failed to converge (status=1):\n",
            "STOP: TOTAL NO. of ITERATIONS REACHED LIMIT.\n",
            "\n",
            "Increase the number of iterations (max_iter) or scale the data as shown in:\n",
            "    https://scikit-learn.org/stable/modules/preprocessing.html\n",
            "Please also refer to the documentation for alternative solver options:\n",
            "    https://scikit-learn.org/stable/modules/linear_model.html#logistic-regression\n",
            "  extra_warning_msg=_LOGISTIC_SOLVER_CONVERGENCE_MSG)\n",
            "/usr/local/lib/python3.7/dist-packages/sklearn/linear_model/_logistic.py:940: ConvergenceWarning: lbfgs failed to converge (status=1):\n",
            "STOP: TOTAL NO. of ITERATIONS REACHED LIMIT.\n",
            "\n",
            "Increase the number of iterations (max_iter) or scale the data as shown in:\n",
            "    https://scikit-learn.org/stable/modules/preprocessing.html\n",
            "Please also refer to the documentation for alternative solver options:\n",
            "    https://scikit-learn.org/stable/modules/linear_model.html#logistic-regression\n",
            "  extra_warning_msg=_LOGISTIC_SOLVER_CONVERGENCE_MSG)\n"
          ],
          "name": "stderr"
        },
        {
          "output_type": "stream",
          "text": [
            "   average_precision_score  f1_score_0  ...  recall_score_1  roc_auc_score\n",
            "0                 0.184591    0.962120  ...        0.240113       0.611704\n",
            "1                 0.159867    0.961339  ...        0.194366       0.589845\n",
            "2                 0.169141    0.960195  ...        0.230986       0.605671\n",
            "\n",
            "[3 rows x 8 columns]\n",
            "   average_precision_score  f1_score_0  ...  recall_score_1  roc_auc_score\n",
            "0                 0.170951    0.965427  ...        0.115819       0.557458\n",
            "1                 0.160137    0.964916  ...        0.095775       0.547774\n",
            "2                 0.152355    0.964593  ...        0.090141       0.544845\n",
            "\n",
            "[3 rows x 8 columns]\n"
          ],
          "name": "stdout"
        }
      ]
    },
    {
      "cell_type": "code",
      "metadata": {
        "id": "y59NLxLjHCEo"
      },
      "source": [
        ""
      ],
      "execution_count": null,
      "outputs": []
    }
  ]
}